{
 "cells": [
  {
   "cell_type": "code",
   "execution_count": 1,
   "id": "6930ee46",
   "metadata": {},
   "outputs": [],
   "source": [
    "import numpy as np\n",
    "import pandas as pd\n",
    "import seaborn as sns\n",
    "import matplotlib.pyplot as plt\n",
    "from sklearn.preprocessing import LabelEncoder\n",
    "from sklearn.model_selection import train_test_split\n",
    "from sklearn.metrics import accuracy_score, precision_score, recall_score, f1_score\n",
    "from sklearn.preprocessing import StandardScaler\n",
    "from sklearn.feature_extraction.text import CountVectorizer\n",
    "from sklearn.preprocessing import MaxAbsScaler\n",
    "from sklearn.decomposition import TruncatedSVD\n",
    "from sklearn.tree import DecisionTreeClassifier\n",
    "%matplotlib inline\n",
    "\n",
    "# Linear Regression\n",
    "from sklearn.linear_model import LinearRegression\n",
    "\n",
    "# Cross Validate\n",
    "from sklearn.model_selection import cross_validate\n",
    "\n",
    "# Decision Tree\n",
    "from sklearn.tree import DecisionTreeClassifier\n",
    "\n",
    "# KNN\n",
    "from sklearn.neighbors import KNeighborsClassifier\n",
    "from sklearn.metrics import confusion_matrix\n",
    "\n",
    "# PCA\n",
    "from sklearn.decomposition import PCA\n",
    "\n",
    "# Random Forest\n",
    "from sklearn.ensemble import RandomForestClassifier\n",
    "\n",
    "# SVC\n",
    "from sklearn.svm import SVC\n",
    "\n",
    "# Clustering\n",
    "from sklearn.cluster import KMeans\n",
    "\n",
    "# Logistic Regression\n",
    "from sklearn.linear_model import LogisticRegression\n",
    "\n",
    "# Naive Bayes\n",
    "from sklearn.naive_bayes import GaussianNB"
   ]
  },
  {
   "cell_type": "markdown",
   "id": "ba5b6bbd",
   "metadata": {},
   "source": [
    "# Data Collection"
   ]
  },
  {
   "cell_type": "code",
   "execution_count": 2,
   "id": "9e0b4e84",
   "metadata": {},
   "outputs": [],
   "source": [
    "# Read dataset\n",
    "data = pd.read_csv(\"malicious_phish.csv\")"
   ]
  },
  {
   "cell_type": "code",
   "execution_count": 3,
   "id": "5e9992f3",
   "metadata": {},
   "outputs": [
    {
     "data": {
      "text/plain": [
       "651191"
      ]
     },
     "execution_count": 3,
     "metadata": {},
     "output_type": "execute_result"
    }
   ],
   "source": [
    "# Length of dataset\n",
    "len(data)"
   ]
  },
  {
   "cell_type": "code",
   "execution_count": 4,
   "id": "6a7e2573",
   "metadata": {},
   "outputs": [
    {
     "data": {
      "text/plain": [
       "(651191, 2)"
      ]
     },
     "execution_count": 4,
     "metadata": {},
     "output_type": "execute_result"
    }
   ],
   "source": [
    "# Size of dataset\n",
    "data.shape"
   ]
  },
  {
   "cell_type": "code",
   "execution_count": 5,
   "id": "3f245c2d",
   "metadata": {},
   "outputs": [
    {
     "data": {
      "text/plain": [
       "Index(['url', 'type'], dtype='object')"
      ]
     },
     "execution_count": 5,
     "metadata": {},
     "output_type": "execute_result"
    }
   ],
   "source": [
    "# Keys of dataset\n",
    "data.keys()"
   ]
  },
  {
   "cell_type": "code",
   "execution_count": 6,
   "id": "791808d4",
   "metadata": {},
   "outputs": [
    {
     "data": {
      "text/html": [
       "<div>\n",
       "<style scoped>\n",
       "    .dataframe tbody tr th:only-of-type {\n",
       "        vertical-align: middle;\n",
       "    }\n",
       "\n",
       "    .dataframe tbody tr th {\n",
       "        vertical-align: top;\n",
       "    }\n",
       "\n",
       "    .dataframe thead th {\n",
       "        text-align: right;\n",
       "    }\n",
       "</style>\n",
       "<table border=\"1\" class=\"dataframe\">\n",
       "  <thead>\n",
       "    <tr style=\"text-align: right;\">\n",
       "      <th></th>\n",
       "      <th>url</th>\n",
       "      <th>type</th>\n",
       "    </tr>\n",
       "  </thead>\n",
       "  <tbody>\n",
       "    <tr>\n",
       "      <th>0</th>\n",
       "      <td>br-icloud.com.br</td>\n",
       "      <td>phishing</td>\n",
       "    </tr>\n",
       "    <tr>\n",
       "      <th>1</th>\n",
       "      <td>mp3raid.com/music/krizz_kaliko.html</td>\n",
       "      <td>benign</td>\n",
       "    </tr>\n",
       "    <tr>\n",
       "      <th>2</th>\n",
       "      <td>bopsecrets.org/rexroth/cr/1.htm</td>\n",
       "      <td>benign</td>\n",
       "    </tr>\n",
       "    <tr>\n",
       "      <th>3</th>\n",
       "      <td>http://www.garage-pirenne.be/index.php?option=...</td>\n",
       "      <td>defacement</td>\n",
       "    </tr>\n",
       "    <tr>\n",
       "      <th>4</th>\n",
       "      <td>http://adventure-nicaragua.net/index.php?optio...</td>\n",
       "      <td>defacement</td>\n",
       "    </tr>\n",
       "    <tr>\n",
       "      <th>5</th>\n",
       "      <td>http://buzzfil.net/m/show-art/ils-etaient-loin...</td>\n",
       "      <td>benign</td>\n",
       "    </tr>\n",
       "    <tr>\n",
       "      <th>6</th>\n",
       "      <td>espn.go.com/nba/player/_/id/3457/brandon-rush</td>\n",
       "      <td>benign</td>\n",
       "    </tr>\n",
       "    <tr>\n",
       "      <th>7</th>\n",
       "      <td>yourbittorrent.com/?q=anthony-hamilton-soulife</td>\n",
       "      <td>benign</td>\n",
       "    </tr>\n",
       "    <tr>\n",
       "      <th>8</th>\n",
       "      <td>http://www.pashminaonline.com/pure-pashminas</td>\n",
       "      <td>defacement</td>\n",
       "    </tr>\n",
       "    <tr>\n",
       "      <th>9</th>\n",
       "      <td>allmusic.com/album/crazy-from-the-heat-r16990</td>\n",
       "      <td>benign</td>\n",
       "    </tr>\n",
       "  </tbody>\n",
       "</table>\n",
       "</div>"
      ],
      "text/plain": [
       "                                                 url        type\n",
       "0                                   br-icloud.com.br    phishing\n",
       "1                mp3raid.com/music/krizz_kaliko.html      benign\n",
       "2                    bopsecrets.org/rexroth/cr/1.htm      benign\n",
       "3  http://www.garage-pirenne.be/index.php?option=...  defacement\n",
       "4  http://adventure-nicaragua.net/index.php?optio...  defacement\n",
       "5  http://buzzfil.net/m/show-art/ils-etaient-loin...      benign\n",
       "6      espn.go.com/nba/player/_/id/3457/brandon-rush      benign\n",
       "7     yourbittorrent.com/?q=anthony-hamilton-soulife      benign\n",
       "8       http://www.pashminaonline.com/pure-pashminas  defacement\n",
       "9      allmusic.com/album/crazy-from-the-heat-r16990      benign"
      ]
     },
     "execution_count": 6,
     "metadata": {},
     "output_type": "execute_result"
    }
   ],
   "source": [
    "# Head\n",
    "data.head(10)"
   ]
  },
  {
   "cell_type": "code",
   "execution_count": 7,
   "id": "da7ee7df",
   "metadata": {},
   "outputs": [
    {
     "data": {
      "text/html": [
       "<div>\n",
       "<style scoped>\n",
       "    .dataframe tbody tr th:only-of-type {\n",
       "        vertical-align: middle;\n",
       "    }\n",
       "\n",
       "    .dataframe tbody tr th {\n",
       "        vertical-align: top;\n",
       "    }\n",
       "\n",
       "    .dataframe thead th {\n",
       "        text-align: right;\n",
       "    }\n",
       "</style>\n",
       "<table border=\"1\" class=\"dataframe\">\n",
       "  <thead>\n",
       "    <tr style=\"text-align: right;\">\n",
       "      <th></th>\n",
       "      <th>url</th>\n",
       "      <th>type</th>\n",
       "    </tr>\n",
       "  </thead>\n",
       "  <tbody>\n",
       "    <tr>\n",
       "      <th>count</th>\n",
       "      <td>651191</td>\n",
       "      <td>651191</td>\n",
       "    </tr>\n",
       "    <tr>\n",
       "      <th>unique</th>\n",
       "      <td>641119</td>\n",
       "      <td>4</td>\n",
       "    </tr>\n",
       "    <tr>\n",
       "      <th>top</th>\n",
       "      <td>http://style.org.hc360.com/css/detail/mysite/s...</td>\n",
       "      <td>benign</td>\n",
       "    </tr>\n",
       "    <tr>\n",
       "      <th>freq</th>\n",
       "      <td>180</td>\n",
       "      <td>428103</td>\n",
       "    </tr>\n",
       "  </tbody>\n",
       "</table>\n",
       "</div>"
      ],
      "text/plain": [
       "                                                      url    type\n",
       "count                                              651191  651191\n",
       "unique                                             641119       4\n",
       "top     http://style.org.hc360.com/css/detail/mysite/s...  benign\n",
       "freq                                                  180  428103"
      ]
     },
     "execution_count": 7,
     "metadata": {},
     "output_type": "execute_result"
    }
   ],
   "source": [
    "# Describe\n",
    "data.describe()"
   ]
  },
  {
   "cell_type": "code",
   "execution_count": 8,
   "id": "15dc823d",
   "metadata": {},
   "outputs": [
    {
     "name": "stdout",
     "output_type": "stream",
     "text": [
      "<class 'pandas.core.frame.DataFrame'>\n",
      "RangeIndex: 651191 entries, 0 to 651190\n",
      "Data columns (total 2 columns):\n",
      " #   Column  Non-Null Count   Dtype \n",
      "---  ------  --------------   ----- \n",
      " 0   url     651191 non-null  object\n",
      " 1   type    651191 non-null  object\n",
      "dtypes: object(2)\n",
      "memory usage: 9.9+ MB\n"
     ]
    }
   ],
   "source": [
    "# Info\n",
    "data.info()"
   ]
  },
  {
   "cell_type": "markdown",
   "id": "52309251",
   "metadata": {},
   "source": [
    "The data consists of 651,191 rows and 2 columns.\n",
    "\n",
    "Columns:\n",
    "\n",
    "1. \"url\": This column contains the textual representation of each URL. URLs are stored as character strings. There are a total of 651,191 URLs in this column.\n",
    "\n",
    "2. \"type\": This column indicates the type of each URL. The types of URLs are stored under the \"object\" data type, representing textual data. There are four different types of URLs: 'phishing' (phishing attacks), 'benign' (safe), 'defacement' (defacement attacks), and 'malware' (malicious URLs). The type of all 651,191 URLs has been specified.\n",
    "\n",
    "Non-Null Count: This shows the number of non-null (non-missing) data in each column. In this case, both columns have 651,191 non-null entries, meaning there are no missing values (Null) in the dataset.\n",
    "\n",
    "Dtype (Data Type): This shows the data type of each column. Both columns are of the \"object\" data type, indicating that they store textual data.\n",
    "\n",
    "Memory Usage: This indicates how much memory the DataFrame occupies. This dataset uses 9.9 MB of memory."
   ]
  },
  {
   "cell_type": "markdown",
   "id": "135dadcd",
   "metadata": {},
   "source": [
    "# Prepare the Dataset"
   ]
  },
  {
   "cell_type": "code",
   "execution_count": 9,
   "id": "6eb3bc7b",
   "metadata": {},
   "outputs": [],
   "source": [
    "dataset = data.copy()"
   ]
  },
  {
   "cell_type": "code",
   "execution_count": null,
   "id": "f33879a0",
   "metadata": {},
   "outputs": [],
   "source": []
  },
  {
   "cell_type": "code",
   "execution_count": null,
   "id": "9a5825e7",
   "metadata": {},
   "outputs": [],
   "source": []
  },
  {
   "cell_type": "code",
   "execution_count": null,
   "id": "8c827ea0",
   "metadata": {},
   "outputs": [],
   "source": []
  },
  {
   "cell_type": "code",
   "execution_count": null,
   "id": "7fd08ce2",
   "metadata": {},
   "outputs": [],
   "source": []
  },
  {
   "cell_type": "code",
   "execution_count": null,
   "id": "57e27818",
   "metadata": {},
   "outputs": [],
   "source": []
  },
  {
   "cell_type": "code",
   "execution_count": null,
   "id": "cf319131",
   "metadata": {},
   "outputs": [],
   "source": []
  },
  {
   "cell_type": "code",
   "execution_count": null,
   "id": "08c5e7e4",
   "metadata": {},
   "outputs": [],
   "source": []
  },
  {
   "cell_type": "code",
   "execution_count": null,
   "id": "3720ee5b",
   "metadata": {},
   "outputs": [],
   "source": []
  },
  {
   "cell_type": "code",
   "execution_count": null,
   "id": "2a6ad5bb",
   "metadata": {},
   "outputs": [],
   "source": []
  },
  {
   "cell_type": "code",
   "execution_count": null,
   "id": "30df8ebc",
   "metadata": {},
   "outputs": [],
   "source": []
  },
  {
   "cell_type": "markdown",
   "id": "cab64538",
   "metadata": {},
   "source": [
    "# Select Target Value"
   ]
  },
  {
   "cell_type": "code",
   "execution_count": 9,
   "id": "fd6ef9d8",
   "metadata": {},
   "outputs": [
    {
     "data": {
      "text/plain": [
       "array(['phishing', 'benign', 'defacement', 'malware'], dtype=object)"
      ]
     },
     "execution_count": 9,
     "metadata": {},
     "output_type": "execute_result"
    }
   ],
   "source": [
    "# Finding the unique values of the type variable in the dataset\n",
    "dataset.type.unique()"
   ]
  },
  {
   "cell_type": "code",
   "execution_count": 10,
   "id": "4cb77bd0",
   "metadata": {},
   "outputs": [
    {
     "name": "stdout",
     "output_type": "stream",
     "text": [
      "type\n",
      "benign        428103\n",
      "defacement     96457\n",
      "malware        32520\n",
      "phishing       94111\n",
      "dtype: int64\n"
     ]
    }
   ],
   "source": [
    "# Finding the number of each value of the type variable by grouping\n",
    "print(dataset.groupby('type').size())"
   ]
  },
  {
   "cell_type": "markdown",
   "id": "6144e0ef",
   "metadata": {},
   "source": [
    "This dataset is a collection of 651,191 URLs gathered from various sources. The URLs are categorized into four different classes based on their types:\n",
    "\n",
    "1. Benign URLs: There are a total of 428,103 benign or safe URLs. These URLs typically lead to secure websites and services.\n",
    "\n",
    "2. Defacement URLs: There are a total of 96,457 defacement URLs. Defacement URLs are associated with malicious attacks where a website's content is unauthorizedly changed or altered with malicious intent.\n",
    "\n",
    "3. Phishing URLs: There are a total of 94,111 phishing URLs. Phishing URLs are part of fraudulent attacks aimed at deceiving users to steal their personal information or identity.\n",
    "\n",
    "4. Malicious URLs: There are a total of 32,520 malicious URLs. Malicious URLs are dangerous websites that usually facilitate the spread of harmful software or viruses. Clicking on these URLs may cause harm to the user's device and result in data theft.\n",
    "\n",
    "This dataset has been created with the purpose of developing a machine learning-based model to detect malicious URLs. In the field of cybersecurity, such datasets can be utilized to detect and prevent malevolent websites. Organizations, especially, can implement such models to prevent the dissemination of harmful URLs to their users."
   ]
  },
  {
   "cell_type": "code",
   "execution_count": 11,
   "id": "6720100b",
   "metadata": {},
   "outputs": [
    {
     "data": {
      "image/png": "[encoded data removed]",
      "text/plain": [
       "<Figure size 800x600 with 1 Axes>"
      ]
     },
     "metadata": {},
     "output_type": "display_data"
    }
   ],
   "source": [
    "# Plot the bar plot of the type variable\n",
    "plt.figure(figsize=(8, 6))\n",
    "dataset['type'].value_counts().plot(kind='bar')\n",
    "plt.xlabel('Type')\n",
    "plt.ylabel('Count')\n",
    "plt.title('Distribution of URL Types')\n",
    "plt.show()"
   ]
  },
  {
   "cell_type": "code",
   "execution_count": 12,
   "id": "2a0f6783",
   "metadata": {},
   "outputs": [
    {
     "data": {
      "image/png": "[encoded data removed]",
      "text/plain": [
       "<Figure size 800x600 with 1 Axes>"
      ]
     },
     "metadata": {},
     "output_type": "display_data"
    }
   ],
   "source": [
    "# A pie chart or donut chart is used to show the percentages of categorical data.\n",
    "# Kategorik verilerin yüzdesel oranlarını göstermek için pasta grafiği veya donut grafiği kullanılır.\n",
    "\n",
    "# Select the categorical variable\n",
    "categorical_var = 'type'\n",
    "\n",
    "# Calculate the values and counts of the categorical variable in the dataset\n",
    "category_counts = dataset[categorical_var].value_counts()\n",
    "categories = category_counts.index\n",
    "counts = category_counts.values\n",
    "\n",
    "# Draw the pie chart\n",
    "plt.figure(figsize=(8, 6))\n",
    "plt.pie(counts, labels=categories, autopct='%1.1f%%')\n",
    "plt.title(f\"{categorical_var} distribution\")\n",
    "plt.show()"
   ]
  },
  {
   "cell_type": "markdown",
   "id": "319daf09",
   "metadata": {},
   "source": [
    "# Pre-Processing"
   ]
  },
  {
   "cell_type": "markdown",
   "id": "4e66a88d",
   "metadata": {},
   "source": [
    "We check the missing data of each cell with the \"isnull()\" function. Then we calculate the number of missing values with the sum() function. This way we can display the number of missing values in each column.\n",
    "\n",
    "\"isnull()\" fonksiyonu ile her hücrenin eksik olan verilerini kontrol ediyoruz. Ardından sum() fonksiyonu ile eksik değer sayısını hesaplıyoruz. Bu şekilde her sütundaki eksik değer sayısını görüntüleyebiliriz."
   ]
  },
  {
   "cell_type": "code",
   "execution_count": 13,
   "id": "59f82dcd",
   "metadata": {},
   "outputs": [
    {
     "name": "stdout",
     "output_type": "stream",
     "text": [
      "url     0\n",
      "type    0\n",
      "dtype: int64\n"
     ]
    }
   ],
   "source": [
    "# Checking for missing values\n",
    "missing_values = dataset.isnull().sum()\n",
    "print(missing_values)"
   ]
  },
  {
   "cell_type": "code",
   "execution_count": 14,
   "id": "71abb7b8",
   "metadata": {},
   "outputs": [
    {
     "name": "stdout",
     "output_type": "stream",
     "text": [
      "Requirement already satisfied: missingno in c:\\users\\dogan\\anaconda3\\lib\\site-packages (0.5.2)\n",
      "Requirement already satisfied: seaborn in c:\\users\\dogan\\anaconda3\\lib\\site-packages (from missingno) (0.11.2)\n",
      "Requirement already satisfied: matplotlib in c:\\users\\dogan\\anaconda3\\lib\\site-packages (from missingno) (3.5.2)\n",
      "Requirement already satisfied: scipy in c:\\users\\dogan\\anaconda3\\lib\\site-packages (from missingno) (1.9.1)\n",
      "Requirement already satisfied: numpy in c:\\users\\dogan\\anaconda3\\lib\\site-packages (from missingno) (1.21.5)\n",
      "Requirement already satisfied: cycler>=0.10 in c:\\users\\dogan\\anaconda3\\lib\\site-packages (from matplotlib->missingno) (0.11.0)\n",
      "Requirement already satisfied: packaging>=20.0 in c:\\users\\dogan\\anaconda3\\lib\\site-packages (from matplotlib->missingno) (21.3)\n",
      "Requirement already satisfied: python-dateutil>=2.7 in c:\\users\\dogan\\anaconda3\\lib\\site-packages (from matplotlib->missingno) (2.8.2)\n",
      "Requirement already satisfied: fonttools>=4.22.0 in c:\\users\\dogan\\anaconda3\\lib\\site-packages (from matplotlib->missingno) (4.25.0)\n",
      "Requirement already satisfied: pyparsing>=2.2.1 in c:\\users\\dogan\\anaconda3\\lib\\site-packages (from matplotlib->missingno) (3.0.9)\n",
      "Requirement already satisfied: pillow>=6.2.0 in c:\\users\\dogan\\anaconda3\\lib\\site-packages (from matplotlib->missingno) (9.2.0)\n",
      "Requirement already satisfied: kiwisolver>=1.0.1 in c:\\users\\dogan\\anaconda3\\lib\\site-packages (from matplotlib->missingno) (1.4.2)\n",
      "Requirement already satisfied: pandas>=0.23 in c:\\users\\dogan\\anaconda3\\lib\\site-packages (from seaborn->missingno) (1.4.4)\n",
      "Requirement already satisfied: pytz>=2020.1 in c:\\users\\dogan\\anaconda3\\lib\\site-packages (from pandas>=0.23->seaborn->missingno) (2022.1)\n",
      "Requirement already satisfied: six>=1.5 in c:\\users\\dogan\\anaconda3\\lib\\site-packages (from python-dateutil>=2.7->matplotlib->missingno) (1.16.0)\n",
      "Note: you may need to restart the kernel to use updated packages.\n"
     ]
    }
   ],
   "source": [
    "pip install missingno"
   ]
  },
  {
   "cell_type": "code",
   "execution_count": 15,
   "id": "d9836b06",
   "metadata": {},
   "outputs": [
    {
     "data": {
      "text/plain": [
       "<AxesSubplot:>"
      ]
     },
     "execution_count": 15,
     "metadata": {},
     "output_type": "execute_result"
    },
    {
     "data": {
      "image/png": "[encoded data removed]",
      "text/plain": [
       "<Figure size 2500x1000 with 2 Axes>"
      ]
     },
     "metadata": {},
     "output_type": "display_data"
    }
   ],
   "source": [
    "import missingno as msno\n",
    "msno.matrix(dataset)"
   ]
  },
  {
   "cell_type": "markdown",
   "id": "83900c36",
   "metadata": {},
   "source": [
    "We can use the \"fillna()\" and \"dropna()\" functions to fill or remove rows or columns with missing values.\n",
    "\n",
    "Eksik değerlerin olduğu satırları ya da sütunları doldurma veya kaldırma işlemleri için ise \"fillna()\" ve \"dropna()\" fonksiyonlarını kullanabiliriz.\n",
    "\n",
    "We don't have to use these functions because there is no data missing in the data set.\n",
    "\n",
    "Veri setinde eksik veri olmadığı için bu fonksiyonları kullanmak zorunda değiliz."
   ]
  },
  {
   "cell_type": "code",
   "execution_count": 16,
   "id": "f1317fa2",
   "metadata": {},
   "outputs": [
    {
     "data": {
      "image/png": "[encoded data removed]",
      "text/plain": [
       "<Figure size 1000x500 with 1 Axes>"
      ]
     },
     "metadata": {},
     "output_type": "display_data"
    }
   ],
   "source": [
    "# Visualization of missing values\n",
    "plt.figure(figsize=(10, 5))\n",
    "plt.title(\"Visualization of Missing Values\")\n",
    "sns.heatmap(dataset.isnull(), cmap='viridis', cbar=False)\n",
    "plt.xlabel(\"Variables\")\n",
    "plt.ylabel(\"Observations\")\n",
    "plt.show()"
   ]
  },
  {
   "cell_type": "code",
   "execution_count": 17,
   "id": "5cf10317",
   "metadata": {},
   "outputs": [
    {
     "data": {
      "image/png": "[encoded data removed]",
      "text/plain": [
       "<Figure size 1000x500 with 2 Axes>"
      ]
     },
     "metadata": {},
     "output_type": "display_data"
    }
   ],
   "source": [
    "# Visualization of missing values\n",
    "plt.figure(figsize=(10, 5))\n",
    "plt.title(\"Visualization of Missing Values\")\n",
    "plt.imshow(dataset.isnull(), cmap='viridis', aspect='auto')\n",
    "plt.xlabel(\"Variables\")\n",
    "plt.ylabel(\"Observations\")\n",
    "plt.colorbar(label=\"Missing\")\n",
    "plt.show()"
   ]
  },
  {
   "cell_type": "markdown",
   "id": "359258c6",
   "metadata": {},
   "source": [
    "We can use the duplicated() function to detect duplicate rows in your dataset. This function returns a boolean (True/False) series indicating whether each row is repeated.\n",
    "We can use the drop_duplicates() function to remove duplicate rows. This function removes duplicate rows from the dataset and returns a cleaned dataset.\n",
    "After removing duplicate rows, we can check the cleaned dataset.\n",
    "\n",
    "Veri setinizdeki yinelenen satırları tespit etmek için duplicated() fonksiyonunu kullanabilirsiniz. Bu fonksiyon, her bir satırın yinelenip yinelenmediğini belirten bir boolean (True/False) serisi döndürür.\n",
    "Yinelenen satırları kaldırmak için drop_duplicates() fonksiyonunu kullanabilirsiniz. Bu fonksiyon, yinelenen satırları veri setinden kaldırır ve temizlenmiş bir veri seti döndürür.\n",
    "Yinelenen satırları kaldırdıktan sonra, temizlenmiş veri setini kontrol edebiliriz."
   ]
  },
  {
   "cell_type": "code",
   "execution_count": 18,
   "id": "ad4e32c8",
   "metadata": {},
   "outputs": [
    {
     "name": "stdout",
     "output_type": "stream",
     "text": [
      "Total Duplicate Rows: 10066\n"
     ]
    }
   ],
   "source": [
    "# Detecting duplicate rows\n",
    "duplicated_rows = dataset.duplicated()\n",
    "duplicated_count = duplicated_rows.sum()\n",
    "\n",
    "print(\"Total Duplicate Rows:\", duplicated_count)"
   ]
  },
  {
   "cell_type": "code",
   "execution_count": 19,
   "id": "8196367c",
   "metadata": {},
   "outputs": [
    {
     "name": "stdout",
     "output_type": "stream",
     "text": [
      "Cleaned Dataset Row Count: 641125\n"
     ]
    }
   ],
   "source": [
    "# Remove duplicate rows\n",
    "dataset = dataset.drop_duplicates()\n",
    "\n",
    "# Checking the cleaned dataset\n",
    "print(\"Cleaned Dataset Row Count:\", len(dataset))"
   ]
  },
  {
   "cell_type": "markdown",
   "id": "49476bf3",
   "metadata": {},
   "source": [
    "We can use encoding methods to convert categorical values to numeric values. For example, we can convert nominal categorical variables with one-hot encoding or label encoding.\n",
    "\n",
    "encoded_data = pd.get_dummies(dataset.type)\n",
    "\n",
    "dataset['type_encoded'] = label_encoder.fit_transform(dataset['type'])"
   ]
  },
  {
   "cell_type": "code",
   "execution_count": 20,
   "id": "4914f6d6",
   "metadata": {},
   "outputs": [],
   "source": [
    "# Label encoding (Etiket Kodlama)\n",
    "label_encoder = LabelEncoder()\n",
    "dataset['type_encoded'] = label_encoder.fit_transform(dataset['type'])"
   ]
  },
  {
   "cell_type": "code",
   "execution_count": 21,
   "id": "b9b1b032",
   "metadata": {},
   "outputs": [
    {
     "name": "stdout",
     "output_type": "stream",
     "text": [
      "<class 'pandas.core.frame.DataFrame'>\n",
      "Int64Index: 641125 entries, 0 to 651190\n",
      "Data columns (total 3 columns):\n",
      " #   Column        Non-Null Count   Dtype \n",
      "---  ------        --------------   ----- \n",
      " 0   url           641125 non-null  object\n",
      " 1   type          641125 non-null  object\n",
      " 2   type_encoded  641125 non-null  int32 \n",
      "dtypes: int32(1), object(2)\n",
      "memory usage: 17.1+ MB\n"
     ]
    }
   ],
   "source": [
    "dataset.info()"
   ]
  },
  {
   "cell_type": "markdown",
   "id": "d40e53ce",
   "metadata": {},
   "source": [
    "In the code, we draw a box plot using the seaborn library. The boxplot is a commonly used method for visualizing outliers. A box is drawn for each column and outliers are represented by dots.\n",
    "\n",
    "Kodda, seaborn kütüphanesini kullanarak kutu grafiği (box plot) çiziyoruz. Kutu grafiği, aykırı değerleri görselleştirmek için yaygın olarak kullanılan bir yöntemdir. Her sütun için bir kutu çizilir ve aykırı değerler noktalarla temsil edilir."
   ]
  },
  {
   "cell_type": "code",
   "execution_count": 22,
   "id": "09cf0171",
   "metadata": {},
   "outputs": [
    {
     "data": {
      "image/png": "[encoded data removed]",
      "text/plain": [
       "<Figure size 640x480 with 1 Axes>"
      ]
     },
     "metadata": {},
     "output_type": "display_data"
    }
   ],
   "source": [
    "# Create a box plot to visualize outliers for type_encoded\n",
    "plt.boxplot(dataset.type_encoded)\n",
    "plt.title(\"Box Plot With Outliers-type_encoded\")\n",
    "plt.show()"
   ]
  },
  {
   "cell_type": "code",
   "execution_count": 23,
   "id": "f029d95c",
   "metadata": {},
   "outputs": [
    {
     "name": "stderr",
     "output_type": "stream",
     "text": [
      "C:\\Users\\dogan\\anaconda3\\lib\\site-packages\\seaborn\\_decorators.py:36: FutureWarning: Pass the following variable as a keyword arg: x. From version 0.12, the only valid positional argument will be `data`, and passing other arguments without an explicit keyword will result in an error or misinterpretation.\n",
      "  warnings.warn(\n"
     ]
    },
    {
     "data": {
      "image/png": "[encoded data removed]",
      "text/plain": [
       "<Figure size 640x480 with 1 Axes>"
      ]
     },
     "metadata": {},
     "output_type": "display_data"
    }
   ],
   "source": [
    "sns.boxplot(dataset.type_encoded)\n",
    "plt.title(\"Box Plot With Outliers-type_encoded\")\n",
    "plt.show()"
   ]
  },
  {
   "cell_type": "markdown",
   "id": "1e4fff0a",
   "metadata": {},
   "source": [
    "# Correlation"
   ]
  },
  {
   "cell_type": "markdown",
   "id": "9e982b58",
   "metadata": {},
   "source": [
    "Heatmaps are often used to visualize the correlation matrix. The correlation matrix shows the relationships between the variables with a color scale. High positive correlations are shown in darker color while high negative correlations are shown in lighter color.\n",
    "\n",
    "Korelasyon matrisini görselleştirmek için genellikle ısı haritaları (heatmap) kullanılır. Korelasyon matrisi, değişkenler arasındaki ilişkileri renk skalasıyla gösterir. Yüksek pozitif korelasyonlar daha koyu renkte gösterilirken, yüksek negatif korelasyonlar daha açık renkte gösterilir."
   ]
  },
  {
   "cell_type": "code",
   "execution_count": 24,
   "id": "1183fa0f",
   "metadata": {},
   "outputs": [
    {
     "data": {
      "text/html": [
       "<div>\n",
       "<style scoped>\n",
       "    .dataframe tbody tr th:only-of-type {\n",
       "        vertical-align: middle;\n",
       "    }\n",
       "\n",
       "    .dataframe tbody tr th {\n",
       "        vertical-align: top;\n",
       "    }\n",
       "\n",
       "    .dataframe thead th {\n",
       "        text-align: right;\n",
       "    }\n",
       "</style>\n",
       "<table border=\"1\" class=\"dataframe\">\n",
       "  <thead>\n",
       "    <tr style=\"text-align: right;\">\n",
       "      <th></th>\n",
       "      <th>type_encoded</th>\n",
       "    </tr>\n",
       "  </thead>\n",
       "  <tbody>\n",
       "    <tr>\n",
       "      <th>type_encoded</th>\n",
       "      <td>1.0</td>\n",
       "    </tr>\n",
       "  </tbody>\n",
       "</table>\n",
       "</div>"
      ],
      "text/plain": [
       "              type_encoded\n",
       "type_encoded           1.0"
      ]
     },
     "execution_count": 24,
     "metadata": {},
     "output_type": "execute_result"
    }
   ],
   "source": [
    "data_corr =dataset.corr()\n",
    "data_corr"
   ]
  },
  {
   "cell_type": "code",
   "execution_count": 25,
   "id": "b0c30d1a",
   "metadata": {},
   "outputs": [
    {
     "data": {
      "text/plain": [
       "<matplotlib.legend.Legend at 0x18fa40ccee0>"
      ]
     },
     "execution_count": 25,
     "metadata": {},
     "output_type": "execute_result"
    },
    {
     "data": {
      "image/png": "[encoded data removed]",
      "text/plain": [
       "<Figure size 1000x500 with 1 Axes>"
      ]
     },
     "metadata": {},
     "output_type": "display_data"
    }
   ],
   "source": [
    "data_corr.plot(figsize=(10,5), linewidth=2).legend(loc='upper right')"
   ]
  },
  {
   "cell_type": "code",
   "execution_count": 26,
   "id": "3a8926bc",
   "metadata": {},
   "outputs": [
    {
     "data": {
      "image/png": "[encoded data removed]",
      "text/plain": [
       "<Figure size 1500x1500 with 2 Axes>"
      ]
     },
     "metadata": {},
     "output_type": "display_data"
    }
   ],
   "source": [
    "plt.figure(figsize = (15,15))\n",
    "sns.heatmap(data_corr, annot=True)\n",
    "plt.show()"
   ]
  },
  {
   "cell_type": "markdown",
   "id": "e5a091ad",
   "metadata": {},
   "source": [
    "# Machine Learning Algorithms"
   ]
  },
  {
   "cell_type": "code",
   "execution_count": 27,
   "id": "37e6661a",
   "metadata": {},
   "outputs": [],
   "source": [
    "# Separating the data set into dependent and independent variables\n",
    "X = dataset[\"url\"]\n",
    "y = dataset[\"type\"]"
   ]
  },
  {
   "cell_type": "code",
   "execution_count": 28,
   "id": "98e31748",
   "metadata": {},
   "outputs": [],
   "source": [
    "# Label Encoding (Etiket Kodlama)\n",
    "label_encoder = LabelEncoder()\n",
    "y = label_encoder.fit_transform(y)"
   ]
  },
  {
   "cell_type": "code",
   "execution_count": 29,
   "id": "50d14bc3",
   "metadata": {},
   "outputs": [],
   "source": [
    "# CountVectorizer kullanarak 'url' sütununu sayısal özelliklere dönüştürme\n",
    "vectorizer = CountVectorizer()\n",
    "X_vectorized = vectorizer.fit_transform(X['url'])"
   ]
  },
  {
   "cell_type": "code",
   "execution_count": 30,
   "id": "4d619547",
   "metadata": {},
   "outputs": [
    {
     "name": "stdout",
     "output_type": "stream",
     "text": [
      "[3 0 0 ... 3 3 3]\n"
     ]
    }
   ],
   "source": [
    "print(y)"
   ]
  },
  {
   "cell_type": "code",
   "execution_count": 31,
   "id": "129e4df8",
   "metadata": {},
   "outputs": [
    {
     "name": "stdout",
     "output_type": "stream",
     "text": [
      "                                                      url  type_encoded\n",
      "0                                        br-icloud.com.br             3\n",
      "1                     mp3raid.com/music/krizz_kaliko.html             0\n",
      "2                         bopsecrets.org/rexroth/cr/1.htm             0\n",
      "3       http://www.garage-pirenne.be/index.php?option=...             1\n",
      "4       http://adventure-nicaragua.net/index.php?optio...             1\n",
      "...                                                   ...           ...\n",
      "651186            xbox360.ign.com/objects/850/850402.html             3\n",
      "651187       games.teamxbox.com/xbox-360/1860/Dead-Space/             3\n",
      "651188         www.gamespot.com/xbox360/action/deadspace/             3\n",
      "651189      en.wikipedia.org/wiki/Dead_Space_(video_game)             3\n",
      "651190          www.angelfire.com/goth/devilmaycrytonite/             3\n",
      "\n",
      "[641125 rows x 2 columns]\n"
     ]
    }
   ],
   "source": [
    "print(X)"
   ]
  },
  {
   "cell_type": "code",
   "execution_count": 32,
   "id": "dd5f4584",
   "metadata": {},
   "outputs": [
    {
     "name": "stdout",
     "output_type": "stream",
     "text": [
      "  (0, 197107)\t2\n",
      "  (0, 326180)\t1\n",
      "  (0, 226457)\t1\n",
      "  (1, 226457)\t1\n",
      "  (1, 403817)\t1\n",
      "  (1, 407186)\t1\n",
      "  (1, 360408)\t1\n",
      "  (1, 322624)\t1\n",
      "  (2, 195833)\t1\n",
      "  (2, 431807)\t1\n",
      "  (2, 474722)\t1\n",
      "  (2, 233378)\t1\n",
      "  (2, 322611)\t1\n",
      "  (3, 322784)\t1\n",
      "  (3, 578974)\t1\n",
      "  (3, 296350)\t1\n",
      "  (3, 448463)\t1\n",
      "  (3, 183807)\t1\n",
      "  (3, 331391)\t1\n",
      "  (3, 446789)\t1\n",
      "  (3, 431242)\t1\n",
      "  (3, 226558)\t1\n",
      "  (3, 560925)\t1\n",
      "  (3, 166830)\t1\n",
      "  (3, 326449)\t1\n",
      "  :\t:\n",
      "  (641121, 226457)\t1\n",
      "  (641121, 296012)\t1\n",
      "  (641121, 510615)\t1\n",
      "  (641121, 78820)\t1\n",
      "  (641121, 244457)\t1\n",
      "  (641121, 580727)\t1\n",
      "  (641121, 527647)\t1\n",
      "  (641121, 34954)\t1\n",
      "  (641122, 226457)\t1\n",
      "  (641122, 578974)\t1\n",
      "  (641122, 144854)\t1\n",
      "  (641122, 296068)\t1\n",
      "  (641122, 580728)\t1\n",
      "  (641122, 244542)\t1\n",
      "  (641123, 431807)\t1\n",
      "  (641123, 268778)\t1\n",
      "  (641123, 573401)\t1\n",
      "  (641123, 573320)\t1\n",
      "  (641123, 560536)\t1\n",
      "  (641123, 244472)\t1\n",
      "  (641124, 226457)\t1\n",
      "  (641124, 578974)\t1\n",
      "  (641124, 159706)\t1\n",
      "  (641124, 304669)\t1\n",
      "  (641124, 248674)\t1\n"
     ]
    }
   ],
   "source": [
    "print(X_vectorized)"
   ]
  },
  {
   "cell_type": "code",
   "execution_count": 33,
   "id": "09d7e660",
   "metadata": {},
   "outputs": [
    {
     "data": {
      "image/png": "[encoded data removed]",
      "text/plain": [
       "<Figure size 1800x400 with 1 Axes>"
      ]
     },
     "metadata": {},
     "output_type": "display_data"
    }
   ],
   "source": [
    "# \"y\" değişkenini pandas Serisi'ne dönüştürün\n",
    "y_series = pd.Series(y)\n",
    "\n",
    "# Şimdi Seri üzerinde görselleştirme işlemlerini yapabilirsiniz\n",
    "y_series.plot(figsize=(18, 4), linewidth=4)\n",
    "plt.legend(loc='upper right')\n",
    "plt.show()"
   ]
  },
  {
   "cell_type": "markdown",
   "id": "807d3315",
   "metadata": {},
   "source": [
    "# Veri küçültme (Data Sampling)"
   ]
  },
  {
   "cell_type": "code",
   "execution_count": 29,
   "id": "8cfc70f5",
   "metadata": {},
   "outputs": [],
   "source": [
    "# Veri küçültme için örneklem büyüklüğünü belirle (örneğin, 10,000 veri noktası al)\n",
    "sample_size = 10000"
   ]
  },
  {
   "cell_type": "code",
   "execution_count": 30,
   "id": "c604e598",
   "metadata": {},
   "outputs": [],
   "source": [
    "# Rastgele örnekleme yap\n",
    "sampled_dataset = dataset.sample(n=sample_size, random_state=0)"
   ]
  },
  {
   "cell_type": "code",
   "execution_count": 31,
   "id": "a23d5e4e",
   "metadata": {},
   "outputs": [],
   "source": [
    "sampled_X = sampled_dataset['url']\n",
    "sampled_y = sampled_dataset['type_encoded']"
   ]
  },
  {
   "cell_type": "code",
   "execution_count": 38,
   "id": "3df7a002",
   "metadata": {},
   "outputs": [
    {
     "name": "stdout",
     "output_type": "stream",
     "text": [
      "<class 'pandas.core.frame.DataFrame'>\n",
      "Int64Index: 10000 entries, 58255 to 567755\n",
      "Data columns (total 3 columns):\n",
      " #   Column        Non-Null Count  Dtype \n",
      "---  ------        --------------  ----- \n",
      " 0   url           10000 non-null  object\n",
      " 1   type          10000 non-null  object\n",
      " 2   type_encoded  10000 non-null  int32 \n",
      "dtypes: int32(1), object(2)\n",
      "memory usage: 273.4+ KB\n"
     ]
    }
   ],
   "source": [
    "# CountVectorizer kullanarak 'url' sütununu sayısal özelliklere dönüştürme\n",
    "vectorizer_sampled = CountVectorizer()\n",
    "sampled_X_vectorized = vectorizer_sampled.fit_transform(sampled_dataset['url'])\n",
    "sampled_dataset.info()"
   ]
  },
  {
   "cell_type": "code",
   "execution_count": 39,
   "id": "2d18b0f6",
   "metadata": {},
   "outputs": [
    {
     "name": "stdout",
     "output_type": "stream",
     "text": [
      "58255     0\n",
      "78316     0\n",
      "75286     0\n",
      "179091    0\n",
      "100153    0\n",
      "         ..\n",
      "367545    0\n",
      "158105    0\n",
      "376673    1\n",
      "368400    1\n",
      "567755    0\n",
      "Name: type_encoded, Length: 10000, dtype: int32\n"
     ]
    }
   ],
   "source": [
    "print(sampled_y)"
   ]
  },
  {
   "cell_type": "code",
   "execution_count": 40,
   "id": "64991bbd",
   "metadata": {},
   "outputs": [
    {
     "name": "stdout",
     "output_type": "stream",
     "text": [
      "                                                      url\n",
      "58255                 highlineballroom.com/bio.php?id=585\n",
      "78316               en.wikipedia.org/wiki/Francois_Arnaud\n",
      "75286                      en-gb.facebook.com/aimee.reed1\n",
      "179091                         a1moviereviews.com/thirst/\n",
      "100153  http://teespring.com/nl/atp-shirt-edition?utm_...\n",
      "...                                                   ...\n",
      "367545                                      wn.com/le_sud\n",
      "158105  alameda.wadev.com/Pages.aspx/Oakland-Rene-C-Da...\n",
      "376673  http://audeantenne.com/index.php?option=com_co...\n",
      "368400  http://www.needleseyeindustries.com/index.php?...\n",
      "567755  mx.lasertk.ru/RBMC8Qg1BHav4pYFzembFoENcG1gf3H4...\n",
      "\n",
      "[10000 rows x 1 columns]\n"
     ]
    }
   ],
   "source": [
    "print(sampled_X)"
   ]
  },
  {
   "cell_type": "code",
   "execution_count": 41,
   "id": "2f422ecc",
   "metadata": {},
   "outputs": [
    {
     "name": "stdout",
     "output_type": "stream",
     "text": [
      "  (0, 12118)\t1\n",
      "  (0, 7608)\t1\n",
      "  (0, 5855)\t1\n",
      "  (0, 18074)\t1\n",
      "  (0, 12606)\t1\n",
      "  (0, 2703)\t1\n",
      "  (1, 9770)\t1\n",
      "  (1, 24296)\t1\n",
      "  (1, 17395)\t1\n",
      "  (1, 24288)\t1\n",
      "  (1, 10898)\t1\n",
      "  (2, 7608)\t1\n",
      "  (2, 9770)\t1\n",
      "  (2, 11208)\t1\n",
      "  (2, 10217)\t1\n",
      "  (2, 4133)\t1\n",
      "  (2, 19278)\t1\n",
      "  (3, 7608)\t1\n",
      "  (3, 3632)\t1\n",
      "  (3, 22365)\t1\n",
      "  (4, 7608)\t1\n",
      "  (4, 12446)\t1\n",
      "  (4, 22057)\t1\n",
      "  (4, 16805)\t1\n",
      "  (4, 4980)\t2\n",
      "  :\t:\n",
      "  (9997, 5021)\t1\n",
      "  (9998, 7608)\t1\n",
      "  (9998, 18074)\t1\n",
      "  (9998, 12446)\t1\n",
      "  (9998, 24565)\t1\n",
      "  (9998, 17564)\t1\n",
      "  (9998, 12818)\t1\n",
      "  (9998, 6850)\t1\n",
      "  (9998, 6370)\t1\n",
      "  (9998, 17359)\t1\n",
      "  (9998, 13210)\t1\n",
      "  (9998, 2946)\t1\n",
      "  (9998, 20691)\t1\n",
      "  (9998, 7672)\t1\n",
      "  (9998, 3004)\t1\n",
      "  (9998, 16539)\t1\n",
      "  (9999, 12818)\t1\n",
      "  (9999, 12436)\t1\n",
      "  (9999, 19896)\t1\n",
      "  (9999, 16308)\t1\n",
      "  (9999, 23600)\t1\n",
      "  (9999, 19142)\t1\n",
      "  (9999, 7475)\t1\n",
      "  (9999, 20397)\t1\n",
      "  (9999, 14275)\t1\n"
     ]
    }
   ],
   "source": [
    "print(sampled_X_vectorized)"
   ]
  },
  {
   "cell_type": "code",
   "execution_count": 42,
   "id": "5ac46fb1",
   "metadata": {},
   "outputs": [
    {
     "data": {
      "text/plain": [
       "<seaborn.axisgrid.PairGrid at 0x260dfa94250>"
      ]
     },
     "execution_count": 42,
     "metadata": {},
     "output_type": "execute_result"
    },
    {
     "data": {
      "image/png": "[encoded data removed]",
      "text/plain": [
       "<Figure size 250x250 with 2 Axes>"
      ]
     },
     "metadata": {},
     "output_type": "display_data"
    }
   ],
   "source": [
    "sns.pairplot(dataset)"
   ]
  },
  {
   "cell_type": "markdown",
   "id": "eafc8d0e",
   "metadata": {},
   "source": [
    "# Linear Regression"
   ]
  },
  {
   "cell_type": "markdown",
   "id": "2b8ddb6a",
   "metadata": {},
   "source": [
    "EN\n",
    "\n",
    "Linear Regression is a supervised machine learning algorithm used to predict a continuous target variable based on one or more input features. It assumes a linear relationship between the input features and the target variable. The goal of linear regression is to find the best-fitting line that minimizes the difference between the predicted values and the actual values.\n",
    "\n",
    "The algorithm works by estimating the coefficients (slope and intercept) of the linear equation that represents the relationship between the input features and the target variable. This estimation is done using a method called Ordinary Least Squares (OLS), which minimizes the sum of the squared differences between the predicted and actual values.\n",
    "\n",
    "To visualize the linear regression model, you can plot the scatter plot of the data points and overlay the regression line. This helps in understanding the relationship between the input features and the target variable. The scatter plot displays the data points as dots, and the regression line shows the best-fit line that represents the linear relationship.\n",
    "\n",
    "TR\n",
    "\n",
    "Lineer Regresyon, bir veya daha fazla girdi özelliğine dayanarak sürekli bir hedef değişkeni tahmin etmek için kullanılan denetimli bir makine öğrenimi algoritmasıdır. Girdi özellikleri ile hedef değişkeni arasında doğrusal bir ilişki varsayılır. Lineer regresyonun amacı, tahmin edilen değerler ile gerçek değerler arasındaki farkı en aza indiren en iyi uyan doğruyu bulmaktır.\n",
    "\n",
    "Algoritma, girdi özellikleri ile hedef değişkeni arasındaki ilişkiyi temsil eden doğrusal denklemin katsayılarını (eğim ve kesme noktası) tahmin eder. Bu tahmin, Tahmin edilen ve gerçek değerler arasındaki karelerin toplamını en aza indiren Ordinary Least Squares (OLS) yöntemi kullanılarak yapılır.\n",
    "\n",
    "Lineer regresyon modelini görselleştirmek için, veri noktalarının saçılım grafiğini çizebilir ve regresyon doğrusunu üzerine yerleştirebilirsiniz. Bu, girdi özellikleri ile hedef değişkeni arasındaki ilişkiyi anlamada yardımcı olur. Saçılım grafiği, veri noktalarını noktalar olarak gösterirken, regresyon doğrusu doğrusal ilişkiyi temsil eder."
   ]
  },
  {
   "cell_type": "code",
   "execution_count": 43,
   "id": "ea7175a3",
   "metadata": {},
   "outputs": [],
   "source": [
    "# Splitting the dataset into the Training set and Test set\n",
    "# Train-test ayırma\n",
    "X_train, X_test, y_train, y_test = train_test_split(X_vectorized, y, test_size=0.2, random_state=42)"
   ]
  },
  {
   "cell_type": "code",
   "execution_count": 44,
   "id": "5a4ef90e",
   "metadata": {},
   "outputs": [
    {
     "data": {
      "text/plain": [
       "LinearRegression()"
      ]
     },
     "execution_count": 44,
     "metadata": {},
     "output_type": "execute_result"
    }
   ],
   "source": [
    "# Fitting Simple Linear Regression for the Training set\n",
    "# Lineer Regresyon modelini eğitme\n",
    "linearRegression = LinearRegression()\n",
    "linearRegression.fit(X_train, y_train)"
   ]
  },
  {
   "cell_type": "code",
   "execution_count": 45,
   "id": "5be83ce4",
   "metadata": {},
   "outputs": [],
   "source": [
    "# Modeli test verileriyle değerlendirme\n",
    "predictions = linearRegression.predict(X_test)"
   ]
  },
  {
   "cell_type": "code",
   "execution_count": 46,
   "id": "2883063f",
   "metadata": {},
   "outputs": [
    {
     "name": "stdout",
     "output_type": "stream",
     "text": [
      "[-0.12716689  1.28722581  0.03689141 ...  0.94645777  1.60255526\n",
      "  0.02604523]\n"
     ]
    }
   ],
   "source": [
    "print(predictions)"
   ]
  },
  {
   "cell_type": "code",
   "execution_count": 47,
   "id": "5e6e86c4",
   "metadata": {},
   "outputs": [
    {
     "name": "stdout",
     "output_type": "stream",
     "text": [
      "Linear Regression Score:  0.9729235968545197\n"
     ]
    }
   ],
   "source": [
    "print(\"Linear Regression Score: \", linearRegression.score(X_train, y_train))"
   ]
  },
  {
   "cell_type": "markdown",
   "id": "7252c792",
   "metadata": {},
   "source": [
    "Modelin katsayıları (coefficients) elde edilir. linearRegression.coef_ ifadesiyle katsayılar çekilir ve coefficientDataframe isimli bir DataFrame'e aktarılır."
   ]
  },
  {
   "cell_type": "code",
   "execution_count": 48,
   "id": "0d6ceac2",
   "metadata": {},
   "outputs": [],
   "source": [
    "# Obtaining the coefficients of the Linear Regression model\n",
    "# Önce katsayıları bir dizi şeklinde alıyoruz.\n",
    "coefficients = linearRegression.coef_"
   ]
  },
  {
   "cell_type": "code",
   "execution_count": 49,
   "id": "25780358",
   "metadata": {},
   "outputs": [
    {
     "name": "stdout",
     "output_type": "stream",
     "text": [
      "Coefficients Length: 590757\n",
      "Feature Names Length: 590757\n"
     ]
    }
   ],
   "source": [
    "print(\"Coefficients Length:\", len(coefficients))\n",
    "print(\"Feature Names Length:\", len(vectorizer.get_feature_names_out()))"
   ]
  },
  {
   "cell_type": "code",
   "execution_count": 50,
   "id": "75547a5c",
   "metadata": {
    "scrolled": true
   },
   "outputs": [],
   "source": [
    "# Veri çerçevesine dönüştürüyoruz ve sütun adını 'Coefficient' olarak belirliyoruz.\n",
    "coefficientDataframe = pd.DataFrame({'Coefficient': coefficients}, index=vectorizer.get_feature_names_out())\n",
    "# Bu şekilde, katsayıları doğru bir veri çerçevesine dönüştürebiliriz.\n",
    "# vectorizer.get_feature_names_out() metodunu kullandık,\n",
    "# çünkü CountVectorizer tarafından oluşturulan özellik isimlerini almak için bu yöntemi kullanabiliriz."
   ]
  },
  {
   "cell_type": "code",
   "execution_count": 51,
   "id": "cc77725e",
   "metadata": {},
   "outputs": [],
   "source": [
    "# Katsayıları büyüklüklerine göre sıralıyoruz.\n",
    "coefficientDataframe = coefficientDataframe.sort_values(by='Coefficient')"
   ]
  },
  {
   "cell_type": "code",
   "execution_count": 52,
   "id": "63913990",
   "metadata": {},
   "outputs": [
    {
     "name": "stdout",
     "output_type": "stream",
     "text": [
      "                   Coefficient\n",
      "yilmazst            -17.840408\n",
      "armenian             -6.908147\n",
      "chasingthesunlife    -6.752679\n",
      "2583038              -6.613478\n",
      "disp                 -6.582182\n",
      "...                        ...\n",
      "nareg                 7.236856\n",
      "130082                8.081124\n",
      "rlink                 8.238289\n",
      "yousvc                8.722507\n",
      "asn1                 10.545799\n",
      "\n",
      "[590757 rows x 1 columns]\n"
     ]
    }
   ],
   "source": [
    "# Elde edilen veri çerçevesini gösteriyoruz.\n",
    "print(coefficientDataframe)"
   ]
  },
  {
   "cell_type": "code",
   "execution_count": 53,
   "id": "32a9c47d",
   "metadata": {},
   "outputs": [],
   "source": [
    "# Making predictions on the training dataset\n",
    "y_train_pred = linearRegression.predict(X_train)\n",
    "\n",
    "# Making predictions on the test dataset\n",
    "y_test_pred = linearRegression.predict(X_test)\n",
    "\n",
    "# Calculating training and test error values\n",
    "train_error = y_train - y_train_pred\n",
    "test_error = y_test - y_test_pred\n",
    "\n",
    "# NumPy dizilerini pandas Serisi olarak dönüştürme\n",
    "train_error_series = pd.Series(train_error)\n",
    "test_error_series = pd.Series(test_error)"
   ]
  },
  {
   "cell_type": "markdown",
   "id": "ae9bf1e5",
   "metadata": {},
   "source": [
    "In the code, we combine the training and test error values and assign them to the all_errors variable. Next, we plot the distribution of error values as a histogram using the plt.hist() function.\n",
    "\n",
    "Kodda, eğitim ve test hata değerlerini birleştirerek all_errors değişkenine atıyoruz. Ardından, plt.hist() fonksiyonunu kullanarak hata değerlerinin dağılımını histogram olarak çizdiriyoruz."
   ]
  },
  {
   "cell_type": "code",
   "execution_count": 54,
   "id": "2bd2b38a",
   "metadata": {},
   "outputs": [],
   "source": [
    "# Combining train and test error series values\n",
    "# Birleştirilmiş Seri oluşturma\n",
    "all_errors = pd.concat([train_error_series, test_error_series])"
   ]
  },
  {
   "cell_type": "code",
   "execution_count": 55,
   "id": "a5d2f5b1",
   "metadata": {},
   "outputs": [
    {
     "data": {
      "image/png": "[encoded data removed]",
      "text/plain": [
       "<Figure size 640x480 with 1 Axes>"
      ]
     },
     "metadata": {},
     "output_type": "display_data"
    }
   ],
   "source": [
    "# Visualizing the error distribution with a histogram\n",
    "# Histogramı oluşturma\n",
    "plt.hist(all_errors, bins=20)\n",
    "plt.xlabel(\"Error Values\")\n",
    "plt.ylabel(\"Frequency\")\n",
    "plt.title(\"Error Distribution\")\n",
    "plt.show()"
   ]
  },
  {
   "cell_type": "code",
   "execution_count": 56,
   "id": "fbc8e874",
   "metadata": {},
   "outputs": [
    {
     "data": {
      "image/png": "[encoded data removed]",
      "text/plain": [
       "<Figure size 640x480 with 1 Axes>"
      ]
     },
     "metadata": {},
     "output_type": "display_data"
    }
   ],
   "source": [
    "# Combining actual and predicted values\n",
    "y_combined = np.concatenate([y_train, y_test])\n",
    "y_pred_combined = np.concatenate([y_train_pred, y_test_pred])\n",
    "\n",
    "# Comparing actual and predicted values\n",
    "plt.scatter(y_combined, y_pred_combined)\n",
    "plt.xlabel(\"Actual Values\")\n",
    "plt.ylabel(\"Estimated Values\")\n",
    "plt.title(\"Real vs. Estimated Values\")\n",
    "plt.show()"
   ]
  },
  {
   "cell_type": "code",
   "execution_count": 57,
   "id": "ee52c328",
   "metadata": {},
   "outputs": [
    {
     "name": "stdout",
     "output_type": "stream",
     "text": [
      "Mean Absolute Error (MAE): 0.45842592165994706\n",
      "Mean Squared Error (MSE): 0.6570522745488422\n",
      "R^2 Score: 0.44294765277140025\n"
     ]
    }
   ],
   "source": [
    "from sklearn.metrics import mean_absolute_error, mean_squared_error, r2_score\n",
    "\n",
    "# Calculating error metrics\n",
    "mae = mean_absolute_error(y_test, y_test_pred)\n",
    "mse = mean_squared_error(y_test, y_test_pred)\n",
    "r2 = r2_score(y_test, y_test_pred)\n",
    "\n",
    "print(\"Mean Absolute Error (MAE):\", mae)\n",
    "print(\"Mean Squared Error (MSE):\", mse)\n",
    "print(\"R^2 Score:\", r2)"
   ]
  },
  {
   "cell_type": "markdown",
   "id": "eb1d5773",
   "metadata": {},
   "source": [
    "### Linear Regression Using Small Data"
   ]
  },
  {
   "cell_type": "code",
   "execution_count": 58,
   "id": "07b345a6",
   "metadata": {},
   "outputs": [],
   "source": [
    "X_train, X_test, y_train, y_test = train_test_split(sampled_X_vectorized, sampled_y, test_size=0.2, random_state=42)"
   ]
  },
  {
   "cell_type": "code",
   "execution_count": 59,
   "id": "e35e6c93",
   "metadata": {},
   "outputs": [
    {
     "data": {
      "text/plain": [
       "LinearRegression()"
      ]
     },
     "execution_count": 59,
     "metadata": {},
     "output_type": "execute_result"
    }
   ],
   "source": [
    "linearRegression = LinearRegression()\n",
    "linearRegression.fit(X_train, y_train)"
   ]
  },
  {
   "cell_type": "code",
   "execution_count": 60,
   "id": "493c942c",
   "metadata": {},
   "outputs": [],
   "source": [
    "predictions = linearRegression.predict(X_test)"
   ]
  },
  {
   "cell_type": "code",
   "execution_count": 61,
   "id": "90f5dc3d",
   "metadata": {},
   "outputs": [
    {
     "name": "stdout",
     "output_type": "stream",
     "text": [
      "[ 0.29804374  3.59249375 -0.81709712 ...  0.17646069  0.73862149\n",
      "  0.16172745]\n"
     ]
    }
   ],
   "source": [
    "print(predictions)"
   ]
  },
  {
   "cell_type": "code",
   "execution_count": 62,
   "id": "dff001f1",
   "metadata": {},
   "outputs": [
    {
     "name": "stdout",
     "output_type": "stream",
     "text": [
      "Linear Regression Score:  0.9999955865096083\n"
     ]
    }
   ],
   "source": [
    "print(\"Linear Regression Score: \", linearRegression.score(X_train, y_train))"
   ]
  },
  {
   "cell_type": "markdown",
   "id": "8b300a26",
   "metadata": {},
   "source": [
    "# Cross Validate"
   ]
  },
  {
   "cell_type": "markdown",
   "id": "4d4a605a",
   "metadata": {},
   "source": [
    "Cross-validation is a method used to evaluate the performance of a model.\n",
    "\n",
    "Cross-validation, bir modelin performansını değerlendirmek için kullanılan bir yöntemdir. "
   ]
  },
  {
   "cell_type": "code",
   "execution_count": 63,
   "id": "8db87439",
   "metadata": {},
   "outputs": [
    {
     "name": "stdout",
     "output_type": "stream",
     "text": [
      "[-0.71348917 -0.6858493  -0.76414841 -0.68381883 -0.70671975 -0.81223326\n",
      " -1.02228929 -0.79756695 -0.68478965 -0.63675787]\n",
      "[-0.00077419 -0.00156697 -0.00156265 -0.00135804 -0.00156475 -0.00022015\n",
      " -0.00081972 -0.00084654 -0.00092617 -0.00090858]\n"
     ]
    }
   ],
   "source": [
    "result = cross_validate(linearRegression, sampled_X_vectorized, sampled_y, cv=10, scoring=\"neg_mean_absolute_error\", return_train_score=True)\n",
    "print(result[\"test_score\"])\n",
    "print(result[\"train_score\"])"
   ]
  },
  {
   "cell_type": "code",
   "execution_count": 64,
   "id": "68a9e4d0",
   "metadata": {},
   "outputs": [
    {
     "data": {
      "text/plain": [
       "{'fit_time': array([1.04048109, 1.27819276, 0.87710619, 1.2393086 , 1.18116355,\n",
       "        0.63276339, 1.03565001, 1.30899644, 1.11309791, 1.06859851]),\n",
       " 'score_time': array([0.00100017, 0.        , 0.        , 0.00100017, 0.00099897,\n",
       "        0.00100017, 0.        , 0.        , 0.        , 0.        ]),\n",
       " 'test_score': array([-0.71348917, -0.6858493 , -0.76414841, -0.68381883, -0.70671975,\n",
       "        -0.81223326, -1.02228929, -0.79756695, -0.68478965, -0.63675787]),\n",
       " 'train_score': array([-0.00077419, -0.00156697, -0.00156265, -0.00135804, -0.00156475,\n",
       "        -0.00022015, -0.00081972, -0.00084654, -0.00092617, -0.00090858])}"
      ]
     },
     "execution_count": 64,
     "metadata": {},
     "output_type": "execute_result"
    }
   ],
   "source": [
    "result"
   ]
  },
  {
   "cell_type": "code",
   "execution_count": 65,
   "id": "716056a4",
   "metadata": {},
   "outputs": [
    {
     "name": "stdout",
     "output_type": "stream",
     "text": [
      "[-0.31879335  0.06539066 -3.22109026  0.05114728 -0.12448237 -0.38086506\n",
      " -1.81899381 -3.26940797  0.08986919  0.19807958]\n",
      "[0.99967684 0.99898491 0.9989876  0.99909725 0.99899419 0.99999888\n",
      " 0.99999332 0.99964954 0.99923858 0.99925384]\n"
     ]
    }
   ],
   "source": [
    "# r-Square error\n",
    "result1 = cross_validate(linearRegression, sampled_X_vectorized, sampled_y, cv=10, scoring=\"r2\", return_train_score=True)\n",
    "print(result1[\"test_score\"])\n",
    "print(result1[\"train_score\"])"
   ]
  },
  {
   "cell_type": "code",
   "execution_count": 66,
   "id": "78eba0aa",
   "metadata": {},
   "outputs": [
    {
     "name": "stdout",
     "output_type": "stream",
     "text": [
      "[-1.27519139 -1.08671004 -2.28508632 -1.07091119 -1.14623087 -1.2617856\n",
      " -1.84950724 -2.2083912  -0.99892175 -0.94709497]\n",
      "[-0.01951805 -0.03453966 -0.03453965 -0.03266004 -0.03453971 -0.00115189\n",
      " -0.00280826 -0.02041246 -0.03015118 -0.02981437]\n"
     ]
    }
   ],
   "source": [
    "# root mean square error\n",
    "result2=cross_validate(linearRegression, sampled_X_vectorized, sampled_y, cv=10, scoring=\"neg_root_mean_squared_error\", return_train_score=True)\n",
    "print(result2[\"test_score\"])\n",
    "print(result2[\"train_score\"])"
   ]
  },
  {
   "cell_type": "code",
   "execution_count": 67,
   "id": "9654ab37",
   "metadata": {},
   "outputs": [
    {
     "name": "stderr",
     "output_type": "stream",
     "text": [
      "C:\\Users\\dogan\\anaconda3\\lib\\site-packages\\sklearn\\model_selection\\_validation.py:770: UserWarning: Scoring failed. The score on this train-test partition for these parameters will be set to nan. Details: \n",
      "Traceback (most recent call last):\n",
      "  File \"C:\\Users\\dogan\\anaconda3\\lib\\site-packages\\sklearn\\model_selection\\_validation.py\", line 761, in _score\n",
      "    scores = scorer(estimator, X_test, y_test)\n",
      "  File \"C:\\Users\\dogan\\anaconda3\\lib\\site-packages\\sklearn\\metrics\\_scorer.py\", line 216, in __call__\n",
      "    return self._score(\n",
      "  File \"C:\\Users\\dogan\\anaconda3\\lib\\site-packages\\sklearn\\metrics\\_scorer.py\", line 264, in _score\n",
      "    return self._sign * self._score_func(y_true, y_pred, **self._kwargs)\n",
      "  File \"C:\\Users\\dogan\\anaconda3\\lib\\site-packages\\sklearn\\metrics\\_regression.py\", line 521, in mean_squared_log_error\n",
      "    raise ValueError(\n",
      "ValueError: Mean Squared Logarithmic Error cannot be used when targets contain negative values.\n",
      "\n",
      "  warnings.warn(\n",
      "C:\\Users\\dogan\\anaconda3\\lib\\site-packages\\sklearn\\model_selection\\_validation.py:770: UserWarning: Scoring failed. The score on this train-test partition for these parameters will be set to nan. Details: \n",
      "Traceback (most recent call last):\n",
      "  File \"C:\\Users\\dogan\\anaconda3\\lib\\site-packages\\sklearn\\model_selection\\_validation.py\", line 761, in _score\n",
      "    scores = scorer(estimator, X_test, y_test)\n",
      "  File \"C:\\Users\\dogan\\anaconda3\\lib\\site-packages\\sklearn\\metrics\\_scorer.py\", line 216, in __call__\n",
      "    return self._score(\n",
      "  File \"C:\\Users\\dogan\\anaconda3\\lib\\site-packages\\sklearn\\metrics\\_scorer.py\", line 264, in _score\n",
      "    return self._sign * self._score_func(y_true, y_pred, **self._kwargs)\n",
      "  File \"C:\\Users\\dogan\\anaconda3\\lib\\site-packages\\sklearn\\metrics\\_regression.py\", line 521, in mean_squared_log_error\n",
      "    raise ValueError(\n",
      "ValueError: Mean Squared Logarithmic Error cannot be used when targets contain negative values.\n",
      "\n",
      "  warnings.warn(\n",
      "C:\\Users\\dogan\\anaconda3\\lib\\site-packages\\sklearn\\model_selection\\_validation.py:770: UserWarning: Scoring failed. The score on this train-test partition for these parameters will be set to nan. Details: \n",
      "Traceback (most recent call last):\n",
      "  File \"C:\\Users\\dogan\\anaconda3\\lib\\site-packages\\sklearn\\model_selection\\_validation.py\", line 761, in _score\n",
      "    scores = scorer(estimator, X_test, y_test)\n",
      "  File \"C:\\Users\\dogan\\anaconda3\\lib\\site-packages\\sklearn\\metrics\\_scorer.py\", line 216, in __call__\n",
      "    return self._score(\n",
      "  File \"C:\\Users\\dogan\\anaconda3\\lib\\site-packages\\sklearn\\metrics\\_scorer.py\", line 264, in _score\n",
      "    return self._sign * self._score_func(y_true, y_pred, **self._kwargs)\n",
      "  File \"C:\\Users\\dogan\\anaconda3\\lib\\site-packages\\sklearn\\metrics\\_regression.py\", line 521, in mean_squared_log_error\n",
      "    raise ValueError(\n",
      "ValueError: Mean Squared Logarithmic Error cannot be used when targets contain negative values.\n",
      "\n",
      "  warnings.warn(\n",
      "C:\\Users\\dogan\\anaconda3\\lib\\site-packages\\sklearn\\model_selection\\_validation.py:770: UserWarning: Scoring failed. The score on this train-test partition for these parameters will be set to nan. Details: \n",
      "Traceback (most recent call last):\n",
      "  File \"C:\\Users\\dogan\\anaconda3\\lib\\site-packages\\sklearn\\model_selection\\_validation.py\", line 761, in _score\n",
      "    scores = scorer(estimator, X_test, y_test)\n",
      "  File \"C:\\Users\\dogan\\anaconda3\\lib\\site-packages\\sklearn\\metrics\\_scorer.py\", line 216, in __call__\n",
      "    return self._score(\n",
      "  File \"C:\\Users\\dogan\\anaconda3\\lib\\site-packages\\sklearn\\metrics\\_scorer.py\", line 264, in _score\n",
      "    return self._sign * self._score_func(y_true, y_pred, **self._kwargs)\n",
      "  File \"C:\\Users\\dogan\\anaconda3\\lib\\site-packages\\sklearn\\metrics\\_regression.py\", line 521, in mean_squared_log_error\n",
      "    raise ValueError(\n",
      "ValueError: Mean Squared Logarithmic Error cannot be used when targets contain negative values.\n",
      "\n",
      "  warnings.warn(\n",
      "C:\\Users\\dogan\\anaconda3\\lib\\site-packages\\sklearn\\model_selection\\_validation.py:770: UserWarning: Scoring failed. The score on this train-test partition for these parameters will be set to nan. Details: \n",
      "Traceback (most recent call last):\n",
      "  File \"C:\\Users\\dogan\\anaconda3\\lib\\site-packages\\sklearn\\model_selection\\_validation.py\", line 761, in _score\n",
      "    scores = scorer(estimator, X_test, y_test)\n",
      "  File \"C:\\Users\\dogan\\anaconda3\\lib\\site-packages\\sklearn\\metrics\\_scorer.py\", line 216, in __call__\n",
      "    return self._score(\n",
      "  File \"C:\\Users\\dogan\\anaconda3\\lib\\site-packages\\sklearn\\metrics\\_scorer.py\", line 264, in _score\n",
      "    return self._sign * self._score_func(y_true, y_pred, **self._kwargs)\n",
      "  File \"C:\\Users\\dogan\\anaconda3\\lib\\site-packages\\sklearn\\metrics\\_regression.py\", line 521, in mean_squared_log_error\n",
      "    raise ValueError(\n",
      "ValueError: Mean Squared Logarithmic Error cannot be used when targets contain negative values.\n",
      "\n",
      "  warnings.warn(\n",
      "C:\\Users\\dogan\\anaconda3\\lib\\site-packages\\sklearn\\model_selection\\_validation.py:770: UserWarning: Scoring failed. The score on this train-test partition for these parameters will be set to nan. Details: \n",
      "Traceback (most recent call last):\n",
      "  File \"C:\\Users\\dogan\\anaconda3\\lib\\site-packages\\sklearn\\model_selection\\_validation.py\", line 761, in _score\n",
      "    scores = scorer(estimator, X_test, y_test)\n",
      "  File \"C:\\Users\\dogan\\anaconda3\\lib\\site-packages\\sklearn\\metrics\\_scorer.py\", line 216, in __call__\n",
      "    return self._score(\n",
      "  File \"C:\\Users\\dogan\\anaconda3\\lib\\site-packages\\sklearn\\metrics\\_scorer.py\", line 264, in _score\n",
      "    return self._sign * self._score_func(y_true, y_pred, **self._kwargs)\n",
      "  File \"C:\\Users\\dogan\\anaconda3\\lib\\site-packages\\sklearn\\metrics\\_regression.py\", line 521, in mean_squared_log_error\n",
      "    raise ValueError(\n",
      "ValueError: Mean Squared Logarithmic Error cannot be used when targets contain negative values.\n",
      "\n",
      "  warnings.warn(\n",
      "C:\\Users\\dogan\\anaconda3\\lib\\site-packages\\sklearn\\model_selection\\_validation.py:770: UserWarning: Scoring failed. The score on this train-test partition for these parameters will be set to nan. Details: \n",
      "Traceback (most recent call last):\n",
      "  File \"C:\\Users\\dogan\\anaconda3\\lib\\site-packages\\sklearn\\model_selection\\_validation.py\", line 761, in _score\n",
      "    scores = scorer(estimator, X_test, y_test)\n",
      "  File \"C:\\Users\\dogan\\anaconda3\\lib\\site-packages\\sklearn\\metrics\\_scorer.py\", line 216, in __call__\n",
      "    return self._score(\n",
      "  File \"C:\\Users\\dogan\\anaconda3\\lib\\site-packages\\sklearn\\metrics\\_scorer.py\", line 264, in _score\n",
      "    return self._sign * self._score_func(y_true, y_pred, **self._kwargs)\n",
      "  File \"C:\\Users\\dogan\\anaconda3\\lib\\site-packages\\sklearn\\metrics\\_regression.py\", line 521, in mean_squared_log_error\n",
      "    raise ValueError(\n",
      "ValueError: Mean Squared Logarithmic Error cannot be used when targets contain negative values.\n",
      "\n",
      "  warnings.warn(\n",
      "C:\\Users\\dogan\\anaconda3\\lib\\site-packages\\sklearn\\model_selection\\_validation.py:770: UserWarning: Scoring failed. The score on this train-test partition for these parameters will be set to nan. Details: \n",
      "Traceback (most recent call last):\n",
      "  File \"C:\\Users\\dogan\\anaconda3\\lib\\site-packages\\sklearn\\model_selection\\_validation.py\", line 761, in _score\n",
      "    scores = scorer(estimator, X_test, y_test)\n",
      "  File \"C:\\Users\\dogan\\anaconda3\\lib\\site-packages\\sklearn\\metrics\\_scorer.py\", line 216, in __call__\n",
      "    return self._score(\n",
      "  File \"C:\\Users\\dogan\\anaconda3\\lib\\site-packages\\sklearn\\metrics\\_scorer.py\", line 264, in _score\n",
      "    return self._sign * self._score_func(y_true, y_pred, **self._kwargs)\n",
      "  File \"C:\\Users\\dogan\\anaconda3\\lib\\site-packages\\sklearn\\metrics\\_regression.py\", line 521, in mean_squared_log_error\n",
      "    raise ValueError(\n",
      "ValueError: Mean Squared Logarithmic Error cannot be used when targets contain negative values.\n",
      "\n",
      "  warnings.warn(\n",
      "C:\\Users\\dogan\\anaconda3\\lib\\site-packages\\sklearn\\model_selection\\_validation.py:770: UserWarning: Scoring failed. The score on this train-test partition for these parameters will be set to nan. Details: \n",
      "Traceback (most recent call last):\n",
      "  File \"C:\\Users\\dogan\\anaconda3\\lib\\site-packages\\sklearn\\model_selection\\_validation.py\", line 761, in _score\n",
      "    scores = scorer(estimator, X_test, y_test)\n",
      "  File \"C:\\Users\\dogan\\anaconda3\\lib\\site-packages\\sklearn\\metrics\\_scorer.py\", line 216, in __call__\n",
      "    return self._score(\n",
      "  File \"C:\\Users\\dogan\\anaconda3\\lib\\site-packages\\sklearn\\metrics\\_scorer.py\", line 264, in _score\n",
      "    return self._sign * self._score_func(y_true, y_pred, **self._kwargs)\n",
      "  File \"C:\\Users\\dogan\\anaconda3\\lib\\site-packages\\sklearn\\metrics\\_regression.py\", line 521, in mean_squared_log_error\n",
      "    raise ValueError(\n",
      "ValueError: Mean Squared Logarithmic Error cannot be used when targets contain negative values.\n",
      "\n",
      "  warnings.warn(\n",
      "C:\\Users\\dogan\\anaconda3\\lib\\site-packages\\sklearn\\model_selection\\_validation.py:770: UserWarning: Scoring failed. The score on this train-test partition for these parameters will be set to nan. Details: \n",
      "Traceback (most recent call last):\n",
      "  File \"C:\\Users\\dogan\\anaconda3\\lib\\site-packages\\sklearn\\model_selection\\_validation.py\", line 761, in _score\n",
      "    scores = scorer(estimator, X_test, y_test)\n",
      "  File \"C:\\Users\\dogan\\anaconda3\\lib\\site-packages\\sklearn\\metrics\\_scorer.py\", line 216, in __call__\n",
      "    return self._score(\n",
      "  File \"C:\\Users\\dogan\\anaconda3\\lib\\site-packages\\sklearn\\metrics\\_scorer.py\", line 264, in _score\n",
      "    return self._sign * self._score_func(y_true, y_pred, **self._kwargs)\n",
      "  File \"C:\\Users\\dogan\\anaconda3\\lib\\site-packages\\sklearn\\metrics\\_regression.py\", line 521, in mean_squared_log_error\n",
      "    raise ValueError(\n",
      "ValueError: Mean Squared Logarithmic Error cannot be used when targets contain negative values.\n",
      "\n",
      "  warnings.warn(\n"
     ]
    },
    {
     "name": "stderr",
     "output_type": "stream",
     "text": [
      "C:\\Users\\dogan\\anaconda3\\lib\\site-packages\\sklearn\\model_selection\\_validation.py:770: UserWarning: Scoring failed. The score on this train-test partition for these parameters will be set to nan. Details: \n",
      "Traceback (most recent call last):\n",
      "  File \"C:\\Users\\dogan\\anaconda3\\lib\\site-packages\\sklearn\\model_selection\\_validation.py\", line 761, in _score\n",
      "    scores = scorer(estimator, X_test, y_test)\n",
      "  File \"C:\\Users\\dogan\\anaconda3\\lib\\site-packages\\sklearn\\metrics\\_scorer.py\", line 216, in __call__\n",
      "    return self._score(\n",
      "  File \"C:\\Users\\dogan\\anaconda3\\lib\\site-packages\\sklearn\\metrics\\_scorer.py\", line 264, in _score\n",
      "    return self._sign * self._score_func(y_true, y_pred, **self._kwargs)\n",
      "  File \"C:\\Users\\dogan\\anaconda3\\lib\\site-packages\\sklearn\\metrics\\_regression.py\", line 521, in mean_squared_log_error\n",
      "    raise ValueError(\n",
      "ValueError: Mean Squared Logarithmic Error cannot be used when targets contain negative values.\n",
      "\n",
      "  warnings.warn(\n",
      "C:\\Users\\dogan\\anaconda3\\lib\\site-packages\\sklearn\\model_selection\\_validation.py:770: UserWarning: Scoring failed. The score on this train-test partition for these parameters will be set to nan. Details: \n",
      "Traceback (most recent call last):\n",
      "  File \"C:\\Users\\dogan\\anaconda3\\lib\\site-packages\\sklearn\\model_selection\\_validation.py\", line 761, in _score\n",
      "    scores = scorer(estimator, X_test, y_test)\n",
      "  File \"C:\\Users\\dogan\\anaconda3\\lib\\site-packages\\sklearn\\metrics\\_scorer.py\", line 216, in __call__\n",
      "    return self._score(\n",
      "  File \"C:\\Users\\dogan\\anaconda3\\lib\\site-packages\\sklearn\\metrics\\_scorer.py\", line 264, in _score\n",
      "    return self._sign * self._score_func(y_true, y_pred, **self._kwargs)\n",
      "  File \"C:\\Users\\dogan\\anaconda3\\lib\\site-packages\\sklearn\\metrics\\_regression.py\", line 521, in mean_squared_log_error\n",
      "    raise ValueError(\n",
      "ValueError: Mean Squared Logarithmic Error cannot be used when targets contain negative values.\n",
      "\n",
      "  warnings.warn(\n",
      "C:\\Users\\dogan\\anaconda3\\lib\\site-packages\\sklearn\\model_selection\\_validation.py:770: UserWarning: Scoring failed. The score on this train-test partition for these parameters will be set to nan. Details: \n",
      "Traceback (most recent call last):\n",
      "  File \"C:\\Users\\dogan\\anaconda3\\lib\\site-packages\\sklearn\\model_selection\\_validation.py\", line 761, in _score\n",
      "    scores = scorer(estimator, X_test, y_test)\n",
      "  File \"C:\\Users\\dogan\\anaconda3\\lib\\site-packages\\sklearn\\metrics\\_scorer.py\", line 216, in __call__\n",
      "    return self._score(\n",
      "  File \"C:\\Users\\dogan\\anaconda3\\lib\\site-packages\\sklearn\\metrics\\_scorer.py\", line 264, in _score\n",
      "    return self._sign * self._score_func(y_true, y_pred, **self._kwargs)\n",
      "  File \"C:\\Users\\dogan\\anaconda3\\lib\\site-packages\\sklearn\\metrics\\_regression.py\", line 521, in mean_squared_log_error\n",
      "    raise ValueError(\n",
      "ValueError: Mean Squared Logarithmic Error cannot be used when targets contain negative values.\n",
      "\n",
      "  warnings.warn(\n",
      "C:\\Users\\dogan\\anaconda3\\lib\\site-packages\\sklearn\\model_selection\\_validation.py:770: UserWarning: Scoring failed. The score on this train-test partition for these parameters will be set to nan. Details: \n",
      "Traceback (most recent call last):\n",
      "  File \"C:\\Users\\dogan\\anaconda3\\lib\\site-packages\\sklearn\\model_selection\\_validation.py\", line 761, in _score\n",
      "    scores = scorer(estimator, X_test, y_test)\n",
      "  File \"C:\\Users\\dogan\\anaconda3\\lib\\site-packages\\sklearn\\metrics\\_scorer.py\", line 216, in __call__\n",
      "    return self._score(\n",
      "  File \"C:\\Users\\dogan\\anaconda3\\lib\\site-packages\\sklearn\\metrics\\_scorer.py\", line 264, in _score\n",
      "    return self._sign * self._score_func(y_true, y_pred, **self._kwargs)\n",
      "  File \"C:\\Users\\dogan\\anaconda3\\lib\\site-packages\\sklearn\\metrics\\_regression.py\", line 521, in mean_squared_log_error\n",
      "    raise ValueError(\n",
      "ValueError: Mean Squared Logarithmic Error cannot be used when targets contain negative values.\n",
      "\n",
      "  warnings.warn(\n",
      "C:\\Users\\dogan\\anaconda3\\lib\\site-packages\\sklearn\\model_selection\\_validation.py:770: UserWarning: Scoring failed. The score on this train-test partition for these parameters will be set to nan. Details: \n",
      "Traceback (most recent call last):\n",
      "  File \"C:\\Users\\dogan\\anaconda3\\lib\\site-packages\\sklearn\\model_selection\\_validation.py\", line 761, in _score\n",
      "    scores = scorer(estimator, X_test, y_test)\n",
      "  File \"C:\\Users\\dogan\\anaconda3\\lib\\site-packages\\sklearn\\metrics\\_scorer.py\", line 216, in __call__\n",
      "    return self._score(\n",
      "  File \"C:\\Users\\dogan\\anaconda3\\lib\\site-packages\\sklearn\\metrics\\_scorer.py\", line 264, in _score\n",
      "    return self._sign * self._score_func(y_true, y_pred, **self._kwargs)\n",
      "  File \"C:\\Users\\dogan\\anaconda3\\lib\\site-packages\\sklearn\\metrics\\_regression.py\", line 521, in mean_squared_log_error\n",
      "    raise ValueError(\n",
      "ValueError: Mean Squared Logarithmic Error cannot be used when targets contain negative values.\n",
      "\n",
      "  warnings.warn(\n",
      "C:\\Users\\dogan\\anaconda3\\lib\\site-packages\\sklearn\\model_selection\\_validation.py:770: UserWarning: Scoring failed. The score on this train-test partition for these parameters will be set to nan. Details: \n",
      "Traceback (most recent call last):\n",
      "  File \"C:\\Users\\dogan\\anaconda3\\lib\\site-packages\\sklearn\\model_selection\\_validation.py\", line 761, in _score\n",
      "    scores = scorer(estimator, X_test, y_test)\n",
      "  File \"C:\\Users\\dogan\\anaconda3\\lib\\site-packages\\sklearn\\metrics\\_scorer.py\", line 216, in __call__\n",
      "    return self._score(\n",
      "  File \"C:\\Users\\dogan\\anaconda3\\lib\\site-packages\\sklearn\\metrics\\_scorer.py\", line 264, in _score\n",
      "    return self._sign * self._score_func(y_true, y_pred, **self._kwargs)\n",
      "  File \"C:\\Users\\dogan\\anaconda3\\lib\\site-packages\\sklearn\\metrics\\_regression.py\", line 521, in mean_squared_log_error\n",
      "    raise ValueError(\n",
      "ValueError: Mean Squared Logarithmic Error cannot be used when targets contain negative values.\n",
      "\n",
      "  warnings.warn(\n",
      "C:\\Users\\dogan\\anaconda3\\lib\\site-packages\\sklearn\\model_selection\\_validation.py:770: UserWarning: Scoring failed. The score on this train-test partition for these parameters will be set to nan. Details: \n",
      "Traceback (most recent call last):\n",
      "  File \"C:\\Users\\dogan\\anaconda3\\lib\\site-packages\\sklearn\\model_selection\\_validation.py\", line 761, in _score\n",
      "    scores = scorer(estimator, X_test, y_test)\n",
      "  File \"C:\\Users\\dogan\\anaconda3\\lib\\site-packages\\sklearn\\metrics\\_scorer.py\", line 216, in __call__\n",
      "    return self._score(\n",
      "  File \"C:\\Users\\dogan\\anaconda3\\lib\\site-packages\\sklearn\\metrics\\_scorer.py\", line 264, in _score\n",
      "    return self._sign * self._score_func(y_true, y_pred, **self._kwargs)\n",
      "  File \"C:\\Users\\dogan\\anaconda3\\lib\\site-packages\\sklearn\\metrics\\_regression.py\", line 521, in mean_squared_log_error\n",
      "    raise ValueError(\n",
      "ValueError: Mean Squared Logarithmic Error cannot be used when targets contain negative values.\n",
      "\n",
      "  warnings.warn(\n",
      "C:\\Users\\dogan\\anaconda3\\lib\\site-packages\\sklearn\\model_selection\\_validation.py:770: UserWarning: Scoring failed. The score on this train-test partition for these parameters will be set to nan. Details: \n",
      "Traceback (most recent call last):\n",
      "  File \"C:\\Users\\dogan\\anaconda3\\lib\\site-packages\\sklearn\\model_selection\\_validation.py\", line 761, in _score\n",
      "    scores = scorer(estimator, X_test, y_test)\n",
      "  File \"C:\\Users\\dogan\\anaconda3\\lib\\site-packages\\sklearn\\metrics\\_scorer.py\", line 216, in __call__\n",
      "    return self._score(\n",
      "  File \"C:\\Users\\dogan\\anaconda3\\lib\\site-packages\\sklearn\\metrics\\_scorer.py\", line 264, in _score\n",
      "    return self._sign * self._score_func(y_true, y_pred, **self._kwargs)\n",
      "  File \"C:\\Users\\dogan\\anaconda3\\lib\\site-packages\\sklearn\\metrics\\_regression.py\", line 521, in mean_squared_log_error\n",
      "    raise ValueError(\n",
      "ValueError: Mean Squared Logarithmic Error cannot be used when targets contain negative values.\n",
      "\n",
      "  warnings.warn(\n"
     ]
    },
    {
     "name": "stdout",
     "output_type": "stream",
     "text": [
      "[nan nan nan nan nan nan nan nan nan nan]\n",
      "[nan nan nan nan nan nan nan nan nan nan]\n"
     ]
    },
    {
     "name": "stderr",
     "output_type": "stream",
     "text": [
      "C:\\Users\\dogan\\anaconda3\\lib\\site-packages\\sklearn\\model_selection\\_validation.py:770: UserWarning: Scoring failed. The score on this train-test partition for these parameters will be set to nan. Details: \n",
      "Traceback (most recent call last):\n",
      "  File \"C:\\Users\\dogan\\anaconda3\\lib\\site-packages\\sklearn\\model_selection\\_validation.py\", line 761, in _score\n",
      "    scores = scorer(estimator, X_test, y_test)\n",
      "  File \"C:\\Users\\dogan\\anaconda3\\lib\\site-packages\\sklearn\\metrics\\_scorer.py\", line 216, in __call__\n",
      "    return self._score(\n",
      "  File \"C:\\Users\\dogan\\anaconda3\\lib\\site-packages\\sklearn\\metrics\\_scorer.py\", line 264, in _score\n",
      "    return self._sign * self._score_func(y_true, y_pred, **self._kwargs)\n",
      "  File \"C:\\Users\\dogan\\anaconda3\\lib\\site-packages\\sklearn\\metrics\\_regression.py\", line 521, in mean_squared_log_error\n",
      "    raise ValueError(\n",
      "ValueError: Mean Squared Logarithmic Error cannot be used when targets contain negative values.\n",
      "\n",
      "  warnings.warn(\n",
      "C:\\Users\\dogan\\anaconda3\\lib\\site-packages\\sklearn\\model_selection\\_validation.py:770: UserWarning: Scoring failed. The score on this train-test partition for these parameters will be set to nan. Details: \n",
      "Traceback (most recent call last):\n",
      "  File \"C:\\Users\\dogan\\anaconda3\\lib\\site-packages\\sklearn\\model_selection\\_validation.py\", line 761, in _score\n",
      "    scores = scorer(estimator, X_test, y_test)\n",
      "  File \"C:\\Users\\dogan\\anaconda3\\lib\\site-packages\\sklearn\\metrics\\_scorer.py\", line 216, in __call__\n",
      "    return self._score(\n",
      "  File \"C:\\Users\\dogan\\anaconda3\\lib\\site-packages\\sklearn\\metrics\\_scorer.py\", line 264, in _score\n",
      "    return self._sign * self._score_func(y_true, y_pred, **self._kwargs)\n",
      "  File \"C:\\Users\\dogan\\anaconda3\\lib\\site-packages\\sklearn\\metrics\\_regression.py\", line 521, in mean_squared_log_error\n",
      "    raise ValueError(\n",
      "ValueError: Mean Squared Logarithmic Error cannot be used when targets contain negative values.\n",
      "\n",
      "  warnings.warn(\n"
     ]
    }
   ],
   "source": [
    "# mean square log error\n",
    "# Hedef değişkenleri mutlak değer alacak şekilde dönüştürme\n",
    "sampled_y_abs = np.abs(sampled_y)\n",
    "\n",
    "# Yeni dönüştürülmüş hedef değişkenlerle cross-validation yapma\n",
    "result3 = cross_validate(linearRegression, sampled_X_vectorized, sampled_y_abs, cv=10, scoring=\"neg_mean_squared_log_error\", return_train_score=True)\n",
    "\n",
    "print(result3[\"test_score\"])\n",
    "print(result3[\"train_score\"])"
   ]
  },
  {
   "cell_type": "code",
   "execution_count": 68,
   "id": "53ddfa7e",
   "metadata": {},
   "outputs": [
    {
     "name": "stdout",
     "output_type": "stream",
     "text": [
      "[-0.42850754 -0.42699776 -0.43971406 -0.44025989 -0.46589683 -0.50612794\n",
      " -0.60891774 -0.46198273 -0.45100361 -0.4171942 ]\n",
      "[-5.78492382e-06 -1.13166764e-05 -8.38709454e-06 -1.08541723e-05\n",
      " -9.22213090e-06 -9.91325480e-05 -3.77643859e-04 -6.19141856e-06\n",
      " -8.10556070e-06 -7.87238103e-06]\n"
     ]
    }
   ],
   "source": [
    "# median absolute error: he MAD is resistant to outliers. The presence of outliers does not change the value of the MAD\n",
    "result4=cross_validate(linearRegression, sampled_X_vectorized, sampled_y, cv=10, scoring=\"neg_median_absolute_error\", return_train_score=True)\n",
    "print(result4[\"test_score\"])\n",
    "print(result4[\"train_score\"])"
   ]
  },
  {
   "cell_type": "code",
   "execution_count": 69,
   "id": "815a2ff6",
   "metadata": {},
   "outputs": [
    {
     "name": "stdout",
     "output_type": "stream",
     "text": [
      "[1.46025518e+15 1.56240760e+15 1.54650245e+15 1.53066825e+15\n",
      " 1.57648445e+15 1.82440925e+15 2.56714342e+15 1.97296446e+15\n",
      " 1.56867674e+15 1.47383657e+15]\n",
      "[1.73997227e+12 4.15542214e+12 4.14553615e+12 3.65247156e+12\n",
      " 4.14895469e+12 4.55418842e+11 1.74236089e+12 1.90206965e+12\n",
      " 2.76416270e+12 2.70483001e+12]\n"
     ]
    }
   ],
   "source": [
    "# mean absoulte percentage error\n",
    "result5=cross_validate(linearRegression, sampled_X_vectorized, sampled_y, cv=10, scoring=\"neg_mean_absolute_percentage_error\", return_train_score=True)\n",
    "print(-1*result5[\"test_score\"])\n",
    "print(-1*result5[\"train_score\"])"
   ]
  },
  {
   "cell_type": "markdown",
   "id": "dbdfb327",
   "metadata": {},
   "source": [
    "# KNN"
   ]
  },
  {
   "cell_type": "markdown",
   "id": "bc6b91a6",
   "metadata": {},
   "source": [
    "EN\n",
    "\n",
    "K-Nearest Neighbors (KNN) is a machine learning algorithm used to perform classification or regression based on the closeness measure of data points.\n",
    "\n",
    "The working principle of the KNN algorithm includes the following steps:\n",
    "1. Preparing the Dataset and Labels: The dataset is prepared as a matrix (X) containing the features and a vector (y) containing the corresponding labels (classes or target values).\n",
    "2. Choosing a Distance Metric: To make the KNN algorithm work, a distance metric needs to be selected. Euclidean distance is the most commonly used metric, but other metrics can also be preferred.\n",
    "3. Creating the Model: The KNN algorithm uses a simple data structure to store the dataset. During the training phase, the algorithm loads the data points into this structure and stores them with their labels.\n",
    "4. Making Predictions: When a prediction is requested, the KNN algorithm finds the k nearest neighbors of the selected point. By examining the labels of these neighbors, the prediction is made using the majority class or average.\n",
    "\n",
    "TR\n",
    "\n",
    "K-Nearest Neighbors (KNN), veri noktalarının yakınlık ölçüsüne dayanarak sınıflandırma veya regresyon yapmak için kullanılan bir makine öğrenmesi algoritmasıdır.\n",
    "\n",
    "KNN algoritmasının çalışma mantığı şu adımları içerir:\n",
    "1. Veri Kümesi ve Etiketlerin Hazırlanması: Veri kümesi, özelliklerin bulunduğu bir matris (X) ve bu özelliklere karşılık gelen etiketlerin (sınıfların veya hedef değerlerin) bulunduğu bir vektör (y) olarak hazırlanır.\n",
    "2. Ölçüm Metriği Belirleme: KNN'nin çalışması için bir ölçüm metriği seçmek gerekmektedir. Öklidyen mesafe (euclidean distance) en sık kullanılan ölçüm metriğidir, ancak başka metrikler de tercih edilebilir.\n",
    "3. Modelin Oluşturulması: KNN algoritması, veri kümesini depolamak için basit bir yapı kullanır. Eğitim aşamasında, bu yapıya veri noktalarını yükler ve etiketleriyle birlikte saklar.\n",
    "4. Tahmin Yapma: Bir tahmin yapmak istendiğinde, KNN algoritması seçilen noktanın en yakın k komşularını bulur. Bu komşuların etiketleri incelenerek, çoğunluğun sınıfı veya ortalaması kullanılarak tahmin yapılır."
   ]
  },
  {
   "cell_type": "code",
   "execution_count": 70,
   "id": "5ceb605e",
   "metadata": {},
   "outputs": [],
   "source": [
    "# Splitting the dataset into the Training set and Test set\n",
    "# Train-test ayırma\n",
    "X_train, X_test, y_train, y_test = train_test_split(sampled_X_vectorized, sampled_y, test_size=0.2, random_state=42)"
   ]
  },
  {
   "cell_type": "code",
   "execution_count": 71,
   "id": "aa245200",
   "metadata": {},
   "outputs": [
    {
     "name": "stdout",
     "output_type": "stream",
     "text": [
      "8000\n",
      "8000\n",
      "2000\n",
      "2000\n"
     ]
    }
   ],
   "source": [
    "print(X_train.shape[0])\n",
    "print(len(y_train))\n",
    "print(X_test.shape[0])\n",
    "print(len(y_test))"
   ]
  },
  {
   "cell_type": "markdown",
   "id": "a067f012",
   "metadata": {},
   "source": [
    "'len()' fonksiyonu, normal veri yapıları için (listeler, diziler, DataFrame'ler vb.) kullanılır\n",
    "ve bu yapılar bellekte ardışık bir şekilde saklanır, bu nedenle doğrudan uzunluklarını döndürür.\n",
    "Ancak seyrek matrisler farklı bir şekilde depolanır, bu nedenle doğrudan 'len()' kullanamayız."
   ]
  },
  {
   "cell_type": "code",
   "execution_count": 72,
   "id": "5e0716bc",
   "metadata": {},
   "outputs": [
    {
     "name": "stdout",
     "output_type": "stream",
     "text": [
      "77.45966692414834\n"
     ]
    }
   ],
   "source": [
    "import math\n",
    "\n",
    "sqrt = math.sqrt(8000 - 2000)\n",
    "print(sqrt)"
   ]
  },
  {
   "cell_type": "code",
   "execution_count": 73,
   "id": "50c4856d",
   "metadata": {},
   "outputs": [],
   "source": [
    "# Define the model: Init K-NN\n",
    "classifier = KNeighborsClassifier(n_neighbors=77, metric='euclidean')"
   ]
  },
  {
   "cell_type": "code",
   "execution_count": 74,
   "id": "2e625ac9",
   "metadata": {},
   "outputs": [
    {
     "data": {
      "text/plain": [
       "KNeighborsClassifier(metric='euclidean', n_neighbors=77)"
      ]
     },
     "execution_count": 74,
     "metadata": {},
     "output_type": "execute_result"
    }
   ],
   "source": [
    "# Fit Model\n",
    "classifier.fit(X_train, y_train)"
   ]
  },
  {
   "cell_type": "code",
   "execution_count": 75,
   "id": "a11a47a0",
   "metadata": {},
   "outputs": [
    {
     "name": "stderr",
     "output_type": "stream",
     "text": [
      "C:\\Users\\dogan\\anaconda3\\lib\\site-packages\\sklearn\\neighbors\\_classification.py:228: FutureWarning: Unlike other reduction functions (e.g. `skew`, `kurtosis`), the default behavior of `mode` typically preserves the axis it acts along. In SciPy 1.11.0, this behavior will change: the default value of `keepdims` will become False, the `axis` over which the statistic is taken will be eliminated, and the value None will no longer be accepted. Set `keepdims` to True or False to avoid this warning.\n",
      "  mode, _ = stats.mode(_y[neigh_ind, k], axis=1)\n"
     ]
    },
    {
     "data": {
      "text/plain": [
       "array([0, 0, 0, ..., 0, 1, 0])"
      ]
     },
     "execution_count": 75,
     "metadata": {},
     "output_type": "execute_result"
    }
   ],
   "source": [
    "# Predict the test set results\n",
    "y_pred = classifier.predict(X_test)\n",
    "y_pred"
   ]
  },
  {
   "cell_type": "code",
   "execution_count": 76,
   "id": "22b88ff8",
   "metadata": {},
   "outputs": [
    {
     "name": "stdout",
     "output_type": "stream",
     "text": [
      "[[1337    4    0    5]\n",
      " [  77  182    0   16]\n",
      " [  64    0    8    0]\n",
      " [ 274    3    0   30]]\n"
     ]
    }
   ],
   "source": [
    "cm = confusion_matrix(y_test, y_pred)\n",
    "print (cm)"
   ]
  },
  {
   "cell_type": "code",
   "execution_count": 77,
   "id": "64210bd1",
   "metadata": {},
   "outputs": [],
   "source": [
    "# Calculating performance metrics\n",
    "accuracy = accuracy_score(y_test, y_pred)\n",
    "precision = precision_score(y_test, y_pred, average='micro')\n",
    "recall = recall_score(y_test, y_pred, average='micro')\n",
    "f1 = f1_score(y_test, y_pred, average='micro')"
   ]
  },
  {
   "cell_type": "code",
   "execution_count": 78,
   "id": "8b6f32d1",
   "metadata": {},
   "outputs": [
    {
     "name": "stdout",
     "output_type": "stream",
     "text": [
      "Accuracy Score: 0.7785\n",
      "Precision Score: 0.7785\n",
      "Recall Score: 0.7785\n",
      "F1 Score: 0.7785\n"
     ]
    }
   ],
   "source": [
    "print(\"Accuracy Score:\", accuracy)\n",
    "print(\"Precision Score:\", precision)\n",
    "print(\"Recall Score:\", recall)\n",
    "print(\"F1 Score:\", f1)"
   ]
  },
  {
   "cell_type": "markdown",
   "id": "57635d47",
   "metadata": {},
   "source": [
    "### We use feature scaling before applying KNN on our dataset."
   ]
  },
  {
   "cell_type": "markdown",
   "id": "2f9d2a9f",
   "metadata": {},
   "source": [
    "In order for the KNN algorithm to be applied correctly, the features are usually scaled so that they have the same scale. This process normalizes the features in the dataset and helps to represent each feature at the same scale.\n",
    "\n",
    "Doğru bir şekilde KNN algoritması uygulanabilmesi için genellikle öznitelikleri aynı ölçeğe sahip olacak şekilde ölçeklendirme işlemi yapılır. Bu işlem veri setindeki öznitelikleri normalize eder ve her bir özniteliği aynı ölçekte temsil etmeye yardımcı olur."
   ]
  },
  {
   "cell_type": "code",
   "execution_count": 79,
   "id": "fb033993",
   "metadata": {},
   "outputs": [
    {
     "name": "stdout",
     "output_type": "stream",
     "text": [
      "[[1346    0    0    0]\n",
      " [ 275    0    0    0]\n",
      " [  72    0    0    0]\n",
      " [ 307    0    0    0]]\n",
      "\n",
      "Accuracy Score: 0.673\n",
      "Precision Score: 0.673\n",
      "Recall Score: 0.673\n",
      "F1 Score: 0.673\n"
     ]
    },
    {
     "name": "stderr",
     "output_type": "stream",
     "text": [
      "C:\\Users\\dogan\\anaconda3\\lib\\site-packages\\sklearn\\neighbors\\_classification.py:228: FutureWarning: Unlike other reduction functions (e.g. `skew`, `kurtosis`), the default behavior of `mode` typically preserves the axis it acts along. In SciPy 1.11.0, this behavior will change: the default value of `keepdims` will become False, the `axis` over which the statistic is taken will be eliminated, and the value None will no longer be accepted. Set `keepdims` to True or False to avoid this warning.\n",
      "  mode, _ = stats.mode(_y[neigh_ind, k], axis=1)\n"
     ]
    }
   ],
   "source": [
    "from sklearn.preprocessing import StandardScaler\n",
    "\n",
    "# Feature scaling\n",
    "sc_X = StandardScaler(with_mean=False)  # with_mean=False ile seyrek matrisleri ölçeklendir\n",
    "X_train = sc_X.fit_transform(X_train)\n",
    "X_test = sc_X.transform(X_test)\n",
    "\n",
    "# Fit Model\n",
    "classifier.fit(X_train, y_train)\n",
    "\n",
    "# Predict the test set results\n",
    "y_pred = classifier.predict(X_test)\n",
    "\n",
    "cm = confusion_matrix(y_test, y_pred)\n",
    "print (cm)\n",
    "print()\n",
    "\n",
    "# Calculating performance metrics\n",
    "accuracy = accuracy_score(y_test, y_pred)\n",
    "precision = precision_score(y_test, y_pred, average='micro')\n",
    "recall = recall_score(y_test, y_pred, average='micro')\n",
    "f1 = f1_score(y_test, y_pred, average='micro')\n",
    "\n",
    "print(\"Accuracy Score:\", accuracy)\n",
    "print(\"Precision Score:\", precision)\n",
    "print(\"Recall Score:\", recall)\n",
    "print(\"F1 Score:\", f1)"
   ]
  },
  {
   "cell_type": "markdown",
   "id": "c19fa286",
   "metadata": {},
   "source": [
    "### We will reduce our test size to (0.1)"
   ]
  },
  {
   "cell_type": "code",
   "execution_count": 80,
   "id": "7ee68728",
   "metadata": {},
   "outputs": [
    {
     "name": "stdout",
     "output_type": "stream",
     "text": [
      "9000\n",
      "9000\n",
      "1000\n",
      "1000\n"
     ]
    }
   ],
   "source": [
    "# Splitting the dataset into the Training set and Test set\n",
    "X_train, X_test, y_train, y_test = train_test_split(sampled_X_vectorized, sampled_y, test_size=0.1, random_state=42)\n",
    "\n",
    "print(X_train.shape[0])\n",
    "print(len(y_train))\n",
    "print(X_test.shape[0])\n",
    "print(len(y_test))"
   ]
  },
  {
   "cell_type": "code",
   "execution_count": 81,
   "id": "8eff446a",
   "metadata": {},
   "outputs": [
    {
     "name": "stdout",
     "output_type": "stream",
     "text": [
      "89.44271909999159\n"
     ]
    }
   ],
   "source": [
    "sqrt = math.sqrt(9000 - 1000)\n",
    "print(sqrt)"
   ]
  },
  {
   "cell_type": "code",
   "execution_count": 82,
   "id": "9d0d6363",
   "metadata": {},
   "outputs": [
    {
     "name": "stdout",
     "output_type": "stream",
     "text": [
      "[[664   0   0   0]\n",
      " [137   0   0   0]\n",
      " [ 38   0   0   0]\n",
      " [161   0   0   0]]\n",
      "\n",
      "Accuracy Score: 0.664\n",
      "Precision Score: 0.664\n",
      "Recall Score: 0.664\n",
      "F1 Score: 0.664\n"
     ]
    },
    {
     "name": "stderr",
     "output_type": "stream",
     "text": [
      "C:\\Users\\dogan\\anaconda3\\lib\\site-packages\\sklearn\\neighbors\\_classification.py:228: FutureWarning: Unlike other reduction functions (e.g. `skew`, `kurtosis`), the default behavior of `mode` typically preserves the axis it acts along. In SciPy 1.11.0, this behavior will change: the default value of `keepdims` will become False, the `axis` over which the statistic is taken will be eliminated, and the value None will no longer be accepted. Set `keepdims` to True or False to avoid this warning.\n",
      "  mode, _ = stats.mode(_y[neigh_ind, k], axis=1)\n"
     ]
    }
   ],
   "source": [
    "# Define the model: Init K-NN\n",
    "classifier = KNeighborsClassifier(n_neighbors=89, metric='euclidean')\n",
    "\n",
    "from sklearn.preprocessing import StandardScaler\n",
    "\n",
    "# Feature scaling\n",
    "sc_X = StandardScaler(with_mean=False)  # with_mean=False ile seyrek matrisleri ölçeklendir\n",
    "X_train = sc_X.fit_transform(X_train)\n",
    "X_test = sc_X.transform(X_test)\n",
    "\n",
    "# Fit Model\n",
    "classifier.fit(X_train, y_train)\n",
    "\n",
    "# Predict the test set results\n",
    "y_pred = classifier.predict(X_test)\n",
    "\n",
    "cm = confusion_matrix(y_test, y_pred)\n",
    "print (cm)\n",
    "print()\n",
    "\n",
    "# Calculating performance metrics\n",
    "accuracy = accuracy_score(y_test, y_pred)\n",
    "precision = precision_score(y_test, y_pred, average='micro')\n",
    "recall = recall_score(y_test, y_pred, average='micro')\n",
    "f1 = f1_score(y_test, y_pred, average='micro')\n",
    "\n",
    "print(\"Accuracy Score:\", accuracy)\n",
    "print(\"Precision Score:\", precision)\n",
    "print(\"Recall Score:\", recall)\n",
    "print(\"F1 Score:\", f1)"
   ]
  },
  {
   "cell_type": "markdown",
   "id": "493b1e08",
   "metadata": {},
   "source": [
    "1. Accuracy Score: It represents the ratio of correctly predicted labels to the total number of examples. A higher accuracy score indicates that the model's predictions are generally more accurate.\n",
    "2. Precision Score: It shows the ratio of true positive predictions to the total positive predictions. This score measures the model's probability of making false positive predictions. A high precision score indicates that the model has reduced false positives.\n",
    "3. Recall Score: It indicates the proportion of truly positive examples that are correctly predicted as positive. This score measures the model's probability of making false negative predictions. A high recall score indicates that the model has reduced false negatives.\n",
    "4. F1 Score: It represents the harmonic mean of precision and recall scores. This score aims to strike a balance between precision and recall. If both precision and recall are high, the F1 score will also be high.\n",
    "\n",
    ".\n",
    "\n",
    "1. Accuracy Score, doğru tahmin edilen etiketlerin toplam örneklere oranını gösterir. Bu skor ne kadar yüksekse, modelin tahminlerinin genel olarak ne kadar doğru olduğunu gösterir.\n",
    "2. Precision Score, pozitif olarak tahmin edilen örneklerin gerçekten pozitif olan örneklerin oranını gösterir. Bu skor, modelin yanlış pozitif tahminler yapma ihtimalini ölçer. Yüksek bir precision skoru, modelin yanlış pozitifleri azalttığını gösterir.\n",
    "3. Recall Score, gerçekten pozitif olan örneklerin ne kadarının doğru bir şekilde pozitif olarak tahmin edildiğini gösterir. Bu skor, modelin yanlış negatif tahminler yapma ihtimalini ölçer. Yüksek bir recall skoru, modelin yanlış negatifleri azalttığını gösterir.\n",
    "4. F1 Score, precision ve recall skorlarının harmonik ortalamasını temsil eder. Bu skor, precision ve recall arasında bir denge sağlamayı hedefler. Eğer hem precision hem de recall yüksekse, F1 skoru da yüksek olur."
   ]
  },
  {
   "cell_type": "markdown",
   "id": "f062cfb7",
   "metadata": {},
   "source": [
    "# Decision Tree"
   ]
  },
  {
   "cell_type": "markdown",
   "id": "1c389e54",
   "metadata": {},
   "source": [
    "EN\n",
    "\n",
    "Decision Tree is a machine learning algorithm and can be used in classification or regression problems. The Decision Tree creates a set of decision rules using the features in the data set and uses this rule set to classify or predict the value of new data.\n",
    "\n",
    "The working principle of the decision tree algorithm involves the following steps:\n",
    "1. Data Preparation: The dataset is prepared with features stored in a matrix (X) and corresponding labels (classes or target values) stored in a vector (y).\n",
    "2. Decision Tree Construction: The decision tree algorithm creates a tree structure by partitioning the data based on the values of its features. The partitions aim to separate the data in the best possible way in terms of homogeneity or purity. Criteria such as Gini impurity or entropy are used to determine the best splitting criterion.\n",
    "3. Tree Growth: The decision tree is grown recursively. At each node, the dataset is divided into sub-nodes based on the features. This process continues until a certain stopping criterion is met, such as reaching a maximum depth or a minimum number of data points in a node.\n",
    "4. Prediction: The decision tree is used to make predictions on new examples. The features of an example are traversed down the branches of the tree to reach a leaf node, which provides the predicted result.\n",
    "\n",
    "TR\n",
    "\n",
    "Decision Tree (Karar Ağacı), bir makine öğrenmesi algoritmasıdır ve sınıflandırma veya regresyon problemlerinde kullanılabilir. Karar Ağacı, veri kümesindeki özellikleri kullanarak bir dizi karar kuralı oluşturur ve bu kural setini kullanarak yeni verilerin sınıflandırılmasını veya değer tahminini yapar.\n",
    "\n",
    "Algoritmanın çalışma mantığı şu adımları içerir:\n",
    "1. Veri Kümesi ve Etiketlerin Hazırlanması: Veri kümesi, özelliklerin bulunduğu bir matris (X) ve bu özelliklere karşılık gelen etiketlerin (sınıfların veya hedef değerlerin) bulunduğu bir vektör (y) olarak hazırlanır.\n",
    "2. Karar Ağacı Oluşturma: Karar ağacı, veri kümesindeki özelliklerin değerlerine göre bölünmeler yaparak bir ağaç yapısı oluşturur. Bölünmeler, verinin homojenlik veya saflik açısından en iyi şekilde ayrılmasını hedefler. Gini impurity veya entropy gibi kriterler kullanılarak en iyi bölünme kriteri seçilir.\n",
    "3. Ağacın Büyütülmesi: Karar ağacı, rekürsif olarak büyütülür. Her düğümde, veri kümesi özelliklerine göre bölünerek alt düğümler oluşturulur. Bu işlem, belirli bir durma kriteri sağlanana kadar devam eder. Durma kriteri, ağacın derinliği, minimum veri noktaları sayısı gibi faktörlere bağlı olarak belirlenir.\n",
    "4. Tahmin Yapma: Oluşturulan karar ağacı üzerinde yeni örneklerin tahmini yapılır. Örneğin özellikleri ağacın dallarında aşağı doğru ilerletilerek sonuç elde edilir."
   ]
  },
  {
   "cell_type": "code",
   "execution_count": 83,
   "id": "93d810ae",
   "metadata": {},
   "outputs": [],
   "source": [
    "# Splitting the dataset into the Training set and Test set\n",
    "X_train, X_test, y_train, y_test = train_test_split(X_vectorized, y, test_size=0.2, random_state=42)"
   ]
  },
  {
   "cell_type": "code",
   "execution_count": 84,
   "id": "c95e1c94",
   "metadata": {},
   "outputs": [
    {
     "data": {
      "text/plain": [
       "DecisionTreeClassifier(random_state=42)"
      ]
     },
     "execution_count": 84,
     "metadata": {},
     "output_type": "execute_result"
    }
   ],
   "source": [
    "# Create a decision tree classifier\n",
    "clf = DecisionTreeClassifier(criterion = \"gini\", random_state=42)\n",
    "\n",
    "# Train the classifier on the training data\n",
    "clf.fit(X_train, y_train)"
   ]
  },
  {
   "cell_type": "code",
   "execution_count": 85,
   "id": "0b7a2c3d",
   "metadata": {},
   "outputs": [
    {
     "data": {
      "text/plain": [
       "array([0, 0, 0, ..., 1, 3, 0])"
      ]
     },
     "execution_count": 85,
     "metadata": {},
     "output_type": "execute_result"
    }
   ],
   "source": [
    "# Make predictions on the test data\n",
    "y_pred = clf.predict(X_test)\n",
    "y_pred"
   ]
  },
  {
   "cell_type": "code",
   "execution_count": 86,
   "id": "67ee8e2e",
   "metadata": {},
   "outputs": [],
   "source": [
    "# Calculating performance metrics\n",
    "accuracy = accuracy_score(y_test, y_pred)\n",
    "precision = precision_score(y_test, y_pred, average='weighted')\n",
    "recall = recall_score(y_test, y_pred, average='weighted')\n",
    "f1 = f1_score(y_test, y_pred, average='weighted')"
   ]
  },
  {
   "cell_type": "code",
   "execution_count": 87,
   "id": "d8d557b5",
   "metadata": {},
   "outputs": [
    {
     "name": "stdout",
     "output_type": "stream",
     "text": [
      "Accuracy Score: 0.9593215051666991\n",
      "Precision Score: 0.958665600010039\n",
      "Recall Score: 0.9593215051666991\n",
      "F1 Score: 0.9581558230127311\n"
     ]
    }
   ],
   "source": [
    "print(\"Accuracy Score:\", accuracy)\n",
    "print(\"Precision Score:\", precision)\n",
    "print(\"Recall Score:\", recall)\n",
    "print(\"F1 Score:\", f1)"
   ]
  },
  {
   "cell_type": "markdown",
   "id": "f612bdda",
   "metadata": {},
   "source": [
    "### We will reduce our test size to (0.1)"
   ]
  },
  {
   "cell_type": "code",
   "execution_count": 88,
   "id": "485c268c",
   "metadata": {},
   "outputs": [
    {
     "name": "stdout",
     "output_type": "stream",
     "text": [
      "Accuracy Score: 0.9596025767005132\n",
      "Precision Score: 0.9589936352163471\n",
      "Recall Score: 0.9596025767005132\n",
      "F1 Score: 0.9584148853049513\n"
     ]
    }
   ],
   "source": [
    "# Split the dataset into training and testing sets\n",
    "X_train, X_test, y_train, y_test = train_test_split(X_vectorized, y, test_size=0.1, random_state=0)\n",
    "\n",
    "# Create a decision tree classifier\n",
    "clf = DecisionTreeClassifier(criterion = \"gini\", random_state=42)\n",
    "\n",
    "# Train the classifier on the training data\n",
    "clf.fit(X_train, y_train)\n",
    "\n",
    "# Make predictions on the test data\n",
    "y_pred = clf.predict(X_test)\n",
    "\n",
    "# Calculating performance metrics\n",
    "accuracy = accuracy_score(y_test, y_pred)\n",
    "precision = precision_score(y_test, y_pred, average='weighted')\n",
    "recall = recall_score(y_test, y_pred, average='weighted')\n",
    "f1 = f1_score(y_test, y_pred, average='weighted')\n",
    "\n",
    "print(\"Accuracy Score:\", accuracy)\n",
    "print(\"Precision Score:\", precision)\n",
    "print(\"Recall Score:\", recall)\n",
    "print(\"F1 Score:\", f1)"
   ]
  },
  {
   "cell_type": "markdown",
   "id": "7504266f",
   "metadata": {},
   "source": [
    "### Decision Tree Using Small Data"
   ]
  },
  {
   "cell_type": "code",
   "execution_count": 89,
   "id": "feccd59b",
   "metadata": {},
   "outputs": [],
   "source": [
    "# Splitting the dataset into the Training set and Test set\n",
    "X_train, X_test, y_train, y_test = train_test_split(sampled_X_vectorized, sampled_y, test_size=0.2, random_state=42)"
   ]
  },
  {
   "cell_type": "code",
   "execution_count": 90,
   "id": "088b846c",
   "metadata": {},
   "outputs": [
    {
     "data": {
      "text/plain": [
       "DecisionTreeClassifier(random_state=42)"
      ]
     },
     "execution_count": 90,
     "metadata": {},
     "output_type": "execute_result"
    }
   ],
   "source": [
    "# Create a decision tree classifier\n",
    "clf = DecisionTreeClassifier(criterion = \"gini\", random_state=42)\n",
    "\n",
    "# Train the classifier on the training data\n",
    "clf.fit(X_train, y_train)"
   ]
  },
  {
   "cell_type": "code",
   "execution_count": 91,
   "id": "abf68512",
   "metadata": {},
   "outputs": [
    {
     "data": {
      "text/plain": [
       "array([3, 2, 3, ..., 0, 1, 0])"
      ]
     },
     "execution_count": 91,
     "metadata": {},
     "output_type": "execute_result"
    }
   ],
   "source": [
    "# Make predictions on the test data\n",
    "y_pred = clf.predict(X_test)\n",
    "y_pred"
   ]
  },
  {
   "cell_type": "code",
   "execution_count": 92,
   "id": "457b654a",
   "metadata": {},
   "outputs": [],
   "source": [
    "# Calculating performance metrics\n",
    "accuracy = accuracy_score(y_test, y_pred)\n",
    "precision = precision_score(y_test, y_pred, average='weighted')\n",
    "recall = recall_score(y_test, y_pred, average='weighted')\n",
    "f1 = f1_score(y_test, y_pred, average='weighted')"
   ]
  },
  {
   "cell_type": "code",
   "execution_count": 93,
   "id": "a0c44122",
   "metadata": {},
   "outputs": [
    {
     "name": "stdout",
     "output_type": "stream",
     "text": [
      "Accuracy Score: 0.914\n",
      "Precision Score: 0.911080354552394\n",
      "Recall Score: 0.914\n",
      "F1 Score: 0.9108394189976718\n"
     ]
    }
   ],
   "source": [
    "print(\"Accuracy Score:\", accuracy)\n",
    "print(\"Precision Score:\", precision)\n",
    "print(\"Recall Score:\", recall)\n",
    "print(\"F1 Score:\", f1)"
   ]
  },
  {
   "cell_type": "markdown",
   "id": "41bb648c",
   "metadata": {},
   "source": [
    "# PCA"
   ]
  },
  {
   "cell_type": "markdown",
   "id": "cef7f562",
   "metadata": {},
   "source": [
    "EN\n",
    "\n",
    "PCA (Principal Component Analysis) is a method used to analyze the relationships between variables in the data set and to make dimension reduction.\n",
    "\n",
    "The working principle of PCA involves the following steps:\n",
    "1. Data Scaling: PCA considers the variability of the data in the analysis. Therefore, all features are scaled to have the same scale in the data scaling step.\n",
    "2. Calculation of the Covariance Matrix: The covariance matrix is computed to measure the relationships between variables in the dataset. The covariance matrix represents the relationships and variances between features.\n",
    "3. Calculation of Eigenvectors and Eigenvalues: Through eigendecomposition of the covariance matrix, the eigenvalues and corresponding eigenvectors are computed. Eigenvectors serve as the principal components used for the transformation of the data into a new subspace.\n",
    "4. Selection of Principal Components: Eigenvalues represent the variability information in the dataset. PCA selects the most important principal components by ordering the eigenvalues from highest to lowest. The selected principal components form the new dimensional representation of the data.\n",
    "5. Data Transformation: The dataset is transformed into the new dimensional representation using the selected principal components. This step aims to obtain a lower-dimensional representation of the data.\n",
    "\n",
    "TR\n",
    "\n",
    "PCA (Principal Component Analysis), veri setindeki değişkenler arasındaki ilişkileri analiz etmek ve boyut azaltma yapmak için kullanılan bir yöntemdir. \n",
    "\n",
    "PCA'nın çalışma mantığı aşağıdaki adımları içerir:\n",
    "1. Veri Ölçeklendirme: PCA yöntemi, veri setindeki değişkenlik bilgisini dikkate alır. Bu nedenle, veri ölçeklendirme adımıyla tüm özelliklerin aynı ölçekte olması sağlanır.\n",
    "2. Kovaryans Matrisinin Hesaplanması: Veri setindeki değişkenler arasındaki ilişkiyi ölçmek için kovaryans matrisi hesaplanır. Kovaryans matrisi, özellikler arasındaki ilişkileri ve varyanslarını gösterir.\n",
    "3. Özvektörlerin ve Özdeğerlerin Hesaplanması: Kovaryans matrisi üzerinde yapılan özdeğer analiziyle, matrisin özdeğerleri ve bunlara karşılık gelen özvektörler hesaplanır. Özvektörler, verinin yeni özellik alt uzayına dönüştürülmesinde kullanılacak temel bileşenlerdir.\n",
    "4. Temel Bileşenlerin Seçilmesi: Özdeğerler, veri setindeki değişkenlik bilgisini temsil eder. PCA, özdeğerleri büyükten küçüğe sıralayarak en önemli temel bileşenleri seçer. Seçilen temel bileşenler, verinin yeni boyutlu temsilini oluşturur.\n",
    "5. Veri Dönüşümü: Seçilen temel bileşenler kullanılarak veri seti yeni boyutlu bir temsile dönüştürülür. Bu, verinin daha az boyutlu bir gösterimini elde etmek için kullanılır."
   ]
  },
  {
   "cell_type": "markdown",
   "id": "c689cdd3",
   "metadata": {},
   "source": [
    "#### Split the dataset into training and testing sets\n",
    "X_train, X_test, y_train, y_test = train_test_split(X_vectorized, y, test_size=0.2, random_state=42)"
   ]
  },
  {
   "cell_type": "markdown",
   "id": "2a086137",
   "metadata": {},
   "source": [
    "#### Without PCA\n",
    "\n",
    "print(\"Decision Tree\\n\")\n",
    "#### Create a decision tree classifier\n",
    "clf = DecisionTreeClassifier(criterion = \"gini\", random_state=42)\n",
    "\n",
    "#### Train the classifier on the training data\n",
    "clf.fit(X_train, y_train)\n",
    "\n",
    "#### Make predictions on the test data\n",
    "y_pred = clf.predict(X_test)\n",
    "\n",
    "#### Calculating performance metrics\n",
    "accuracy = accuracy_score(y_test, y_pred)\n",
    "precision = precision_score(y_test, y_pred, average='weighted')\n",
    "recall = recall_score(y_test, y_pred, average='weighted')\n",
    "f1 = f1_score(y_test, y_pred, average='weighted')\n",
    "\n",
    "print(\"\\nPCA is not used:\\n\")\n",
    "print(\"Accuracy Score:\", accuracy)\n",
    "print(\"Precision Score:\", precision)\n",
    "print(\"Recall Score:\", recall)\n",
    "print(\"F1 Score:\", f1)"
   ]
  },
  {
   "cell_type": "markdown",
   "id": "03395037",
   "metadata": {},
   "source": [
    "#### With PCA\n",
    "\n",
    "print(\"Decision Tree\\n\")\n",
    "#### Create the PCA model\n",
    "pca = PCA(n_components=2)\n",
    "\n",
    "#### Apply PCA to the dataset and transform it\n",
    "X_train_pca = pca.fit_transform(X_train)\n",
    "X_test_pca = pca.transform(X_test)\n",
    "\n",
    "#### Create a decision tree classifier\n",
    "clf = DecisionTreeClassifier(criterion = \"gini\", random_state=42)\n",
    "\n",
    "#### Train the classifier on the training data\n",
    "clf.fit(X_train_pca, y_train)\n",
    "\n",
    "#### Make predictions on the test data\n",
    "y_pred = clf.predict(X_test_pca)\n",
    "\n",
    "#### Calculating performance metrics\n",
    "accuracy = accuracy_score(y_test, y_pred)\n",
    "precision = precision_score(y_test, y_pred, average='weighted')\n",
    "recall = recall_score(y_test, y_pred, average='weighted')\n",
    "f1 = f1_score(y_test, y_pred, average='weighted')\n",
    "\n",
    "print(\"\\nPCA is used:\\n\")\n",
    "print(\"Accuracy Score with PCA:\", accuracy)\n",
    "print(\"Precision Score with PCA:\", precision)\n",
    "print(\"Recall Score with PCA:\", recall)\n",
    "print(\"F1 Score with PCA:\", f1)"
   ]
  },
  {
   "cell_type": "markdown",
   "id": "4a796f9c",
   "metadata": {},
   "source": [
    "EN\n",
    "1. PCA is not generally used with Decision Tree.\n",
    "2. However, in some cases PCA can be used to visualize or reduce the complexity caused by the high dimensionality in the dataset.\n",
    "\n",
    "TR\n",
    "1. PCA genellikle Decision Tree ile kullanılmaz. \n",
    "2. Ancak, bazı durumlarda veri kümesindeki yüksek boyutluluğun neden olduğu karmaşıklığı azaltmak veya görselleştirmek amacıyla PCA kullanılabilir."
   ]
  },
  {
   "cell_type": "markdown",
   "id": "c803520e",
   "metadata": {},
   "source": [
    "#### Without PCA\n",
    "\n",
    "print(\"KNN\\n\")\n",
    "#### Therefore, to standardize the data, subtract the mean value of the data and divide by its standard deviations.\n",
    "sc_X = StandardScaler()\n",
    "X_train_sca = sc_X.fit_transform(X_train)\n",
    "X_test_sca = sc_X.transform(X_test)\n",
    "\n",
    "classifier = KNeighborsClassifier()\n",
    "\n",
    "#### Fit Model\n",
    "classifier.fit(X_train_sca, y_train)\n",
    "\n",
    "#### Predict the test set results\n",
    "y_pred = classifier.predict(X_test_sca)\n",
    "\n",
    "#### Calculating performance metrics\n",
    "accuracy = accuracy_score(y_test, y_pred)\n",
    "precision = precision_score(y_test, y_pred, average='micro')\n",
    "recall = recall_score(y_test, y_pred, average='micro')\n",
    "f1 = f1_score(y_test, y_pred, average='micro')\n",
    "\n",
    "print(\"\\nPCA is not used:\\n\")\n",
    "print(\"Accuracy Score:\", accuracy)\n",
    "print(\"Precision Score:\", precision)\n",
    "print(\"Recall Score:\", recall)\n",
    "print(\"F1 Score:\", f1)"
   ]
  },
  {
   "cell_type": "markdown",
   "id": "08f557f2",
   "metadata": {},
   "source": [
    "#### With PCA\n",
    "\n",
    "print(\"KNN\\n\")\n",
    "#### Create the PCA model\n",
    "pca = PCA(n_components=2)\n",
    "\n",
    "#### Apply PCA to the dataset and transform it\n",
    "X_train_pca = pca.fit_transform(X_train)\n",
    "X_test_pca = pca.transform(X_test_sca)\n",
    "\n",
    "#### Train the classifier (e.g. KNN)\n",
    "classifier.fit(X_train_pca, y_train)\n",
    "\n",
    "#### Make predictions on the test dataset\n",
    "y_pred = classifier.predict(X_test_pca)\n",
    "\n",
    "#### Calculating performance metrics\n",
    "accuracy = accuracy_score(y_test, y_pred)\n",
    "precision = precision_score(y_test, y_pred, average='micro')\n",
    "recall = recall_score(y_test, y_pred, average='micro')\n",
    "f1 = f1_score(y_test, y_pred, average='micro')\n",
    "\n",
    "print(\"\\nPCA is used (n_components = 2):\\n\")\n",
    "print(\"Accuracy Score:\", accuracy)\n",
    "print(\"Precision Score:\", precision)\n",
    "print(\"Recall Score:\", recall)\n",
    "print(\"F1 Score:\", f1)"
   ]
  },
  {
   "cell_type": "markdown",
   "id": "dfb22ae1",
   "metadata": {},
   "source": [
    "#### With PCA\n",
    "#### With Different PCA component number\n",
    "\n",
    "print(\"KNN\\n\")\n",
    "#### Create the PCA model\n",
    "pca = PCA(n_components=8)\n",
    "\n",
    "#### Apply PCA to the dataset and transform it\n",
    "X_train_pca = pca.fit_transform(X_train_sca)\n",
    "X_test_pca = pca.transform(X_test_sca)\n",
    "\n",
    "#### Train the classifier (e.g. KNN)\n",
    "classifier.fit(X_train_pca, y_train)\n",
    "\n",
    "#### Make predictions on the test dataset\n",
    "y_pred = classifier.predict(X_test_pca)\n",
    "\n",
    "#### Calculating performance metrics\n",
    "accuracy = accuracy_score(y_test, y_pred)\n",
    "precision = precision_score(y_test, y_pred, average='micro')\n",
    "recall = recall_score(y_test, y_pred, average='micro')\n",
    "f1 = f1_score(y_test, y_pred, average='micro')\n",
    "\n",
    "print(\"PCA is used (n_components = 8):\\n\")\n",
    "print(\"Accuracy Score:\", accuracy)\n",
    "print(\"Precision Score:\", precision)\n",
    "print(\"Recall Score:\", recall)\n",
    "print(\"F1 Score:\", f1)"
   ]
  },
  {
   "cell_type": "markdown",
   "id": "0bb32b26",
   "metadata": {},
   "source": [
    "principalComponents = pca.fit_transform(X)\n",
    "X_pca = principalComponents\n",
    "\n",
    "plt.scatter(X_pca[:, 0], X_pca[:, 1], c=y)\n",
    "plt.xlabel('PC1')\n",
    "plt.ylabel('PC2')\n",
    "plt.title('PCA of URL Dataset')\n",
    "plt.show()"
   ]
  },
  {
   "cell_type": "markdown",
   "id": "f243f2d1",
   "metadata": {},
   "source": [
    "pca = PCA (whiten = True).fit(X) \n",
    "plt.plot(np.cumsum(pca.explained_variance_ratio_)) \n",
    "plt.xlabel('number of components')\n",
    "plt.ylabel('cumulative explained variance')\n",
    "plt.show()"
   ]
  },
  {
   "cell_type": "markdown",
   "id": "d39cc60e",
   "metadata": {},
   "source": [
    "# TruncatedSVD"
   ]
  },
  {
   "cell_type": "code",
   "execution_count": 94,
   "id": "72289086",
   "metadata": {},
   "outputs": [],
   "source": [
    "# Assuming you have already preprocessed your data and stored it in X and y variables\n",
    "# Split the dataset into training and testing sets\n",
    "X_train, X_test, y_train, y_test = train_test_split(X_vectorized, y, test_size=0.2, random_state=42)"
   ]
  },
  {
   "cell_type": "code",
   "execution_count": 95,
   "id": "290d461c",
   "metadata": {},
   "outputs": [],
   "source": [
    "# Create the TruncatedSVD model\n",
    "svd = TruncatedSVD(n_components=2)"
   ]
  },
  {
   "cell_type": "code",
   "execution_count": 96,
   "id": "08348e64",
   "metadata": {},
   "outputs": [],
   "source": [
    "# Apply TruncatedSVD to the dataset and transform it\n",
    "X_train_svd = svd.fit_transform(X_train)\n",
    "X_test_svd = svd.transform(X_test)"
   ]
  },
  {
   "cell_type": "code",
   "execution_count": 97,
   "id": "48638ab8",
   "metadata": {},
   "outputs": [],
   "source": [
    "# Create a decision tree classifier\n",
    "clf = DecisionTreeClassifier(criterion=\"gini\", random_state=42)"
   ]
  },
  {
   "cell_type": "code",
   "execution_count": 98,
   "id": "49ce1729",
   "metadata": {},
   "outputs": [
    {
     "data": {
      "text/plain": [
       "DecisionTreeClassifier(random_state=42)"
      ]
     },
     "execution_count": 98,
     "metadata": {},
     "output_type": "execute_result"
    }
   ],
   "source": [
    "# Train the classifier on the training data\n",
    "clf.fit(X_train_svd, y_train)"
   ]
  },
  {
   "cell_type": "code",
   "execution_count": 99,
   "id": "89c7e341",
   "metadata": {},
   "outputs": [],
   "source": [
    "# Make predictions on the test data\n",
    "y_pred = clf.predict(X_test_svd)"
   ]
  },
  {
   "cell_type": "code",
   "execution_count": 100,
   "id": "91accb99",
   "metadata": {},
   "outputs": [
    {
     "name": "stdout",
     "output_type": "stream",
     "text": [
      "\n",
      "TruncatedSVD is used:\n",
      "\n",
      "Accuracy Score with TruncatedSVD: 0.8819263014232794\n",
      "Precision Score with TruncatedSVD: 0.8775446277592258\n",
      "Recall Score with TruncatedSVD: 0.8819263014232794\n",
      "F1 Score with TruncatedSVD: 0.8789603264163183\n"
     ]
    }
   ],
   "source": [
    "# Calculating performance metrics\n",
    "accuracy = accuracy_score(y_test, y_pred)\n",
    "precision = precision_score(y_test, y_pred, average='weighted')\n",
    "recall = recall_score(y_test, y_pred, average='weighted')\n",
    "f1 = f1_score(y_test, y_pred, average='weighted')\n",
    "\n",
    "print(\"\\nTruncatedSVD is used:\\n\")\n",
    "print(\"Accuracy Score with TruncatedSVD:\", accuracy)\n",
    "print(\"Precision Score with TruncatedSVD:\", precision)\n",
    "print(\"Recall Score with TruncatedSVD:\", recall)\n",
    "print(\"F1 Score with TruncatedSVD:\", f1)"
   ]
  },
  {
   "cell_type": "markdown",
   "id": "8e9cac8e",
   "metadata": {},
   "source": [
    "# Random Forest"
   ]
  },
  {
   "cell_type": "markdown",
   "id": "5c8a31f9",
   "metadata": {},
   "source": [
    "EN\n",
    "\n",
    "Random Forest is an ensemble (community) algorithm formed by many decision trees. Each decision tree is trained using random sampling and random feature selection, and as a result, the algorithm combines the predictions of these trees to make a more accurate and stable prediction.\n",
    "\n",
    "Random Forest algorithm can be explained as follows:\n",
    "1. Data Preparation: The dataset is prepared as a matrix (X) containing the features and a vector (y) containing the corresponding labels (classes or target values).\n",
    "2. Creation of Decision Trees: Random Forest creates a specified number of decision trees. Each tree is trained using a random subset of the data and a random subset of the features.\n",
    "3. Training the Trees: Each decision tree is trained using the selected subset of data and features. The tree creates a tree structure by recursively splitting the data based on the values of the features.\n",
    "4. Prediction: New samples can be predicted using the created decision trees. Predictions from each tree are combined to make the final prediction, such as determining the class label.\n",
    "\n",
    "TR\n",
    "\n",
    "Random Forest, birçok karar ağacının bir araya gelerek oluşturduğu bir ensemble (topluluk) algoritmasıdır. Her bir karar ağacı, rastgele örnekleme ve rastgele öznitelik seçimi kullanarak eğitilir ve sonuçta algoritma, bu ağaçların tahminlerini birleştirerek daha doğru ve istikrarlı bir tahmin yapar.\n",
    "\n",
    "Random Forest algoritmasının çalışma mantığı şu adımları içerir:\n",
    "1. Veri Kümesi ve Etiketlerin Hazırlanması: Veri kümesi, özelliklerin bulunduğu bir matris (X) ve bu özelliklere karşılık gelen etiketlerin (sınıfların veya hedef değerlerin) bulunduğu bir vektör (y) olarak hazırlanır.\n",
    "2. Karar Ağaçları Oluşturma: Random Forest, belirli bir sayıda karar ağacı oluşturur. Her bir ağaç için rastgele alt veri kümesi ve rastgele alt özellik kümesi seçilir.\n",
    "3. Ağaçların Eğitimi: Seçilen alt veri kümesi ve özellik kümesi kullanılarak her bir karar ağacı eğitilir. Karar ağacı, verinin bölünmesiyle bir ağaç yapısı oluşturur.\n",
    "4. Tahmin Yapma: Oluşturulan karar ağaçları üzerinde yeni örneklerin tahmini yapılır. Her bir ağaçtan gelen tahminler birleştirilerek final tahmin yapılır."
   ]
  },
  {
   "cell_type": "code",
   "execution_count": 101,
   "id": "46cd16af",
   "metadata": {},
   "outputs": [],
   "source": [
    "# Split the dataset into training and testing sets\n",
    "X_train, X_test, y_train, y_test = train_test_split(sampled_X_vectorized, sampled_y, test_size=0.1, random_state=0)"
   ]
  },
  {
   "cell_type": "code",
   "execution_count": 102,
   "id": "bbe44f62",
   "metadata": {},
   "outputs": [
    {
     "data": {
      "text/plain": [
       "RandomForestClassifier()"
      ]
     },
     "execution_count": 102,
     "metadata": {},
     "output_type": "execute_result"
    }
   ],
   "source": [
    "# Building and training the Random Forest classifier model\n",
    "rf = RandomForestClassifier()\n",
    "rf.fit(X_train, y_train)"
   ]
  },
  {
   "cell_type": "code",
   "execution_count": 103,
   "id": "e1e3ca2b",
   "metadata": {},
   "outputs": [
    {
     "data": {
      "text/plain": [
       "array([3, 0, 1, 0, 0, 0, 0, 0, 0, 3, 0, 0, 0, 1, 0, 0, 0, 3, 0, 1, 0, 1,\n",
       "       0, 3, 1, 0, 0, 2, 3, 0, 1, 3, 0, 0, 0, 0, 0, 1, 1, 0, 1, 0, 1, 3,\n",
       "       0, 0, 0, 0, 0, 3, 0, 0, 0, 0, 1, 0, 0, 0, 0, 0, 0, 0, 1, 0, 1, 0,\n",
       "       0, 0, 0, 0, 1, 0, 1, 0, 0, 0, 3, 0, 0, 1, 1, 0, 1, 0, 0, 0, 0, 1,\n",
       "       0, 0, 0, 1, 0, 0, 0, 0, 0, 0, 2, 0, 0, 3, 3, 1, 0, 0, 0, 3, 0, 0,\n",
       "       0, 1, 0, 1, 0, 1, 0, 0, 0, 0, 0, 0, 0, 1, 0, 2, 0, 3, 1, 0, 0, 3,\n",
       "       0, 0, 1, 0, 0, 1, 1, 0, 0, 3, 0, 0, 0, 0, 1, 0, 0, 0, 0, 1, 0, 1,\n",
       "       0, 3, 0, 0, 0, 0, 0, 0, 0, 0, 0, 0, 0, 0, 2, 0, 1, 3, 0, 0, 0, 0,\n",
       "       1, 0, 0, 0, 1, 1, 0, 3, 0, 0, 0, 0, 0, 3, 0, 0, 0, 0, 0, 0, 0, 0,\n",
       "       0, 0, 0, 0, 1, 3, 0, 1, 0, 0, 0, 3, 0, 0, 1, 2, 0, 0, 0, 1, 1, 3,\n",
       "       3, 0, 3, 0, 0, 1, 0, 1, 3, 0, 0, 0, 0, 0, 0, 3, 3, 1, 1, 0, 0, 1,\n",
       "       0, 0, 0, 0, 1, 0, 0, 1, 0, 0, 0, 0, 3, 0, 0, 0, 0, 0, 0, 0, 0, 0,\n",
       "       0, 1, 0, 3, 2, 0, 3, 3, 0, 3, 0, 0, 0, 0, 0, 0, 3, 0, 0, 3, 3, 0,\n",
       "       2, 0, 0, 0, 0, 0, 0, 1, 0, 0, 0, 0, 0, 0, 0, 0, 0, 0, 0, 0, 1, 0,\n",
       "       2, 0, 2, 0, 0, 0, 0, 0, 0, 0, 0, 0, 0, 0, 0, 0, 0, 0, 0, 0, 1, 0,\n",
       "       0, 0, 0, 1, 0, 0, 1, 0, 1, 0, 1, 0, 0, 0, 1, 0, 1, 0, 2, 0, 0, 1,\n",
       "       0, 0, 3, 0, 3, 0, 3, 3, 0, 1, 0, 1, 0, 0, 0, 0, 0, 0, 0, 1, 0, 3,\n",
       "       0, 1, 1, 0, 0, 0, 0, 0, 0, 0, 0, 0, 0, 0, 0, 0, 0, 0, 3, 3, 0, 0,\n",
       "       0, 0, 2, 0, 2, 0, 0, 1, 0, 2, 1, 1, 3, 1, 0, 0, 1, 3, 0, 2, 0, 1,\n",
       "       0, 0, 0, 1, 0, 0, 0, 0, 0, 3, 0, 0, 0, 0, 0, 0, 0, 0, 0, 0, 1, 0,\n",
       "       0, 0, 3, 0, 3, 0, 3, 1, 1, 1, 0, 0, 0, 0, 3, 3, 0, 0, 3, 0, 0, 0,\n",
       "       1, 0, 0, 2, 0, 3, 0, 0, 0, 0, 0, 3, 1, 2, 0, 0, 0, 0, 1, 0, 1, 1,\n",
       "       1, 0, 0, 0, 1, 0, 1, 0, 0, 0, 0, 0, 3, 0, 0, 1, 0, 0, 0, 0, 0, 0,\n",
       "       2, 0, 0, 0, 0, 0, 0, 0, 0, 3, 2, 0, 0, 0, 0, 0, 0, 3, 0, 0, 0, 1,\n",
       "       0, 0, 0, 0, 1, 3, 0, 0, 0, 0, 2, 0, 0, 1, 0, 0, 3, 0, 0, 0, 3, 0,\n",
       "       3, 3, 0, 1, 0, 0, 1, 3, 0, 0, 3, 0, 3, 1, 3, 0, 0, 0, 1, 0, 0, 0,\n",
       "       0, 0, 0, 1, 0, 0, 1, 0, 0, 0, 0, 0, 3, 3, 1, 1, 0, 0, 0, 0, 0, 0,\n",
       "       0, 0, 3, 3, 0, 1, 1, 0, 3, 0, 0, 3, 0, 0, 0, 0, 0, 0, 0, 0, 0, 1,\n",
       "       0, 0, 0, 1, 0, 0, 0, 0, 1, 0, 3, 0, 1, 0, 0, 3, 0, 0, 0, 0, 1, 1,\n",
       "       0, 0, 0, 0, 0, 0, 1, 3, 3, 0, 0, 0, 0, 0, 3, 0, 0, 2, 0, 1, 0, 0,\n",
       "       0, 0, 0, 0, 0, 0, 0, 0, 3, 0, 1, 0, 0, 1, 0, 1, 0, 3, 0, 0, 0, 0,\n",
       "       0, 0, 2, 0, 0, 0, 0, 2, 0, 0, 0, 0, 0, 0, 0, 0, 0, 0, 0, 3, 0, 0,\n",
       "       0, 0, 0, 0, 0, 3, 0, 3, 0, 2, 0, 0, 0, 2, 0, 0, 1, 0, 0, 0, 0, 0,\n",
       "       3, 0, 0, 3, 0, 0, 0, 0, 0, 0, 1, 0, 0, 1, 3, 0, 3, 0, 0, 0, 0, 0,\n",
       "       0, 3, 0, 0, 0, 3, 1, 0, 3, 1, 3, 3, 0, 0, 1, 0, 0, 0, 1, 0, 0, 0,\n",
       "       0, 0, 0, 0, 0, 0, 1, 1, 0, 2, 0, 3, 0, 0, 0, 0, 2, 0, 0, 0, 2, 0,\n",
       "       3, 3, 0, 0, 0, 0, 0, 0, 0, 3, 0, 0, 0, 1, 0, 0, 0, 3, 0, 0, 0, 0,\n",
       "       0, 0, 0, 1, 0, 2, 0, 0, 1, 0, 0, 0, 0, 3, 3, 0, 0, 0, 1, 0, 0, 0,\n",
       "       0, 0, 0, 0, 1, 0, 0, 0, 0, 0, 0, 0, 0, 0, 3, 0, 0, 0, 0, 0, 0, 0,\n",
       "       0, 0, 0, 0, 0, 0, 0, 0, 0, 0, 1, 0, 0, 1, 1, 0, 0, 2, 0, 0, 0, 3,\n",
       "       0, 3, 1, 3, 0, 0, 0, 0, 1, 1, 0, 3, 0, 0, 0, 0, 0, 0, 1, 1, 0, 0,\n",
       "       0, 3, 0, 0, 0, 0, 0, 0, 0, 1, 0, 0, 3, 0, 3, 3, 0, 0, 0, 1, 0, 1,\n",
       "       0, 0, 0, 0, 0, 0, 0, 0, 0, 0, 1, 3, 0, 0, 0, 0, 0, 0, 0, 0, 0, 3,\n",
       "       0, 0, 0, 1, 1, 0, 0, 0, 0, 0, 0, 0, 0, 0, 0, 1, 0, 0, 0, 0, 0, 0,\n",
       "       1, 0, 0, 3, 0, 0, 1, 1, 0, 0, 3, 0, 3, 3, 0, 0, 0, 1, 0, 0, 1, 1,\n",
       "       0, 0, 0, 3, 3, 0, 0, 3, 1, 0])"
      ]
     },
     "execution_count": 103,
     "metadata": {},
     "output_type": "execute_result"
    }
   ],
   "source": [
    "# Making predictions on test data\n",
    "y_pred = rf.predict(X_test)\n",
    "y_pred"
   ]
  },
  {
   "cell_type": "code",
   "execution_count": 104,
   "id": "815c74e5",
   "metadata": {},
   "outputs": [],
   "source": [
    "# Calculating performance metrics\n",
    "accuracy = accuracy_score(y_test, y_pred)\n",
    "precision = precision_score(y_test, y_pred, average='micro')\n",
    "recall = recall_score(y_test, y_pred, average='micro')\n",
    "f1 = f1_score(y_test, y_pred, average='micro')"
   ]
  },
  {
   "cell_type": "code",
   "execution_count": 105,
   "id": "897b98f8",
   "metadata": {},
   "outputs": [
    {
     "name": "stdout",
     "output_type": "stream",
     "text": [
      "Accuracy Score: 0.918\n",
      "Precision Score: 0.918\n",
      "Recall Score: 0.918\n",
      "F1 Score: 0.918\n"
     ]
    }
   ],
   "source": [
    "print(\"Accuracy Score:\", accuracy)\n",
    "print(\"Precision Score:\", precision)\n",
    "print(\"Recall Score:\", recall)\n",
    "print(\"F1 Score:\", f1)"
   ]
  },
  {
   "cell_type": "markdown",
   "id": "fccd1ea5",
   "metadata": {},
   "source": [
    "### Random Forest with PCA"
   ]
  },
  {
   "cell_type": "markdown",
   "id": "9dfba2fd",
   "metadata": {},
   "source": [
    "#### With PCA\n",
    "\n",
    "print(\"Random Forest\\n\")\n",
    "#### Create the PCA model\n",
    "pca = PCA(n_components=8)\n",
    "\n",
    "#### Apply PCA to the dataset and transform it\n",
    "X_train_pca = pca.fit_transform(X_train)\n",
    "X_test_pca = pca.transform(X_test)\n",
    "\n",
    "rf.fit(X_train_pca, y_train)\n",
    "\n",
    "#### Making predictions on test data\n",
    "y_pred = rf.predict(X_test_pca)\n",
    "\n",
    "#### Calculating performance metrics\n",
    "accuracy = accuracy_score(y_test, y_pred)\n",
    "precision = precision_score(y_test, y_pred, average='micro')\n",
    "recall = recall_score(y_test, y_pred, average='micro')\n",
    "f1 = f1_score(y_test, y_pred, average='micro')\n",
    "\n",
    "print(\"Accuracy Score:\", accuracy)\n",
    "print(\"Precision Score:\", precision)\n",
    "print(\"Recall Score:\", recall)\n",
    "print(\"F1 Score:\", f1)"
   ]
  },
  {
   "cell_type": "markdown",
   "id": "4e9521bf",
   "metadata": {},
   "source": [
    "### Random Forest with TruncatedSVD"
   ]
  },
  {
   "cell_type": "code",
   "execution_count": 106,
   "id": "eb252215",
   "metadata": {},
   "outputs": [
    {
     "name": "stdout",
     "output_type": "stream",
     "text": [
      "Random Forest\n",
      "\n",
      "Accuracy Score (TruncatedSVD): 0.901\n",
      "Precision Score (TruncatedSVD): 0.901\n",
      "Recall Score (TruncatedSVD): 0.901\n",
      "F1 Score (TruncatedSVD): 0.901\n"
     ]
    }
   ],
   "source": [
    "print(\"Random Forest\\n\")\n",
    "# Create the TruncatedSVD model\n",
    "svd = TruncatedSVD(n_components=8)\n",
    "\n",
    "# Apply TruncatedSVD to the dataset and transform it\n",
    "X_train_svd = svd.fit_transform(X_train)\n",
    "X_test_svd = svd.transform(X_test)\n",
    "\n",
    "# Create a random forest classifier\n",
    "rf = RandomForestClassifier(n_estimators=100, random_state=42)\n",
    "\n",
    "# Train the classifier on the training data\n",
    "rf.fit(X_train_svd, y_train)\n",
    "\n",
    "# Making predictions on test data\n",
    "y_pred = rf.predict(X_test_svd)\n",
    "\n",
    "# Calculating performance metrics\n",
    "accuracy = accuracy_score(y_test, y_pred)\n",
    "precision = precision_score(y_test, y_pred, average='micro')\n",
    "recall = recall_score(y_test, y_pred, average='micro')\n",
    "f1 = f1_score(y_test, y_pred, average='micro')\n",
    "\n",
    "print(\"Accuracy Score (TruncatedSVD):\", accuracy)\n",
    "print(\"Precision Score (TruncatedSVD):\", precision)\n",
    "print(\"Recall Score (TruncatedSVD):\", recall)\n",
    "print(\"F1 Score (TruncatedSVD):\", f1)\n"
   ]
  },
  {
   "cell_type": "markdown",
   "id": "0b95eac3",
   "metadata": {},
   "source": [
    "### Random Forest Using Small Data"
   ]
  },
  {
   "cell_type": "code",
   "execution_count": 107,
   "id": "e7f4244b",
   "metadata": {},
   "outputs": [],
   "source": [
    "# Splitting the dataset into the Training set and Test set\n",
    "X_train, X_test, y_train, y_test = train_test_split(sampled_X_vectorized, sampled_y, test_size=0.2, random_state=42)"
   ]
  },
  {
   "cell_type": "code",
   "execution_count": 108,
   "id": "2407e0c0",
   "metadata": {},
   "outputs": [
    {
     "data": {
      "text/plain": [
       "RandomForestClassifier()"
      ]
     },
     "execution_count": 108,
     "metadata": {},
     "output_type": "execute_result"
    }
   ],
   "source": [
    "# Building and training the Random Forest classifier model\n",
    "rf = RandomForestClassifier()\n",
    "rf.fit(X_train, y_train)"
   ]
  },
  {
   "cell_type": "code",
   "execution_count": 109,
   "id": "3b11fb39",
   "metadata": {},
   "outputs": [
    {
     "data": {
      "text/plain": [
       "array([3, 2, 0, ..., 0, 1, 0])"
      ]
     },
     "execution_count": 109,
     "metadata": {},
     "output_type": "execute_result"
    }
   ],
   "source": [
    "# Making predictions on test data\n",
    "y_pred = rf.predict(X_test)\n",
    "y_pred"
   ]
  },
  {
   "cell_type": "code",
   "execution_count": 110,
   "id": "583543ca",
   "metadata": {},
   "outputs": [],
   "source": [
    "# Calculating performance metrics\n",
    "accuracy = accuracy_score(y_test, y_pred)\n",
    "precision = precision_score(y_test, y_pred, average='micro')\n",
    "recall = recall_score(y_test, y_pred, average='micro')\n",
    "f1 = f1_score(y_test, y_pred, average='micro')"
   ]
  },
  {
   "cell_type": "code",
   "execution_count": 111,
   "id": "c577c100",
   "metadata": {},
   "outputs": [
    {
     "name": "stdout",
     "output_type": "stream",
     "text": [
      "Accuracy Score: 0.9165\n",
      "Precision Score: 0.9165\n",
      "Recall Score: 0.9165\n",
      "F1 Score: 0.9165\n"
     ]
    }
   ],
   "source": [
    "print(\"Accuracy Score:\", accuracy)\n",
    "print(\"Precision Score:\", precision)\n",
    "print(\"Recall Score:\", recall)\n",
    "print(\"F1 Score:\", f1)"
   ]
  },
  {
   "cell_type": "markdown",
   "id": "d4e4b346",
   "metadata": {},
   "source": [
    "# Support Vector Machines (SVM)"
   ]
  },
  {
   "cell_type": "markdown",
   "id": "30bd3972",
   "metadata": {},
   "source": [
    "EN\n",
    "\n",
    "Support Vector Machines is a machine learning algorithm used for classification and regression problems. SVM tries to find a hyperplane that separates the data well.\n",
    "\n",
    "The basic steps involved in the SVM algorithm are:\n",
    "1. Data Preparation: SVM requires a labeled dataset with features and corresponding class labels. The features should be numeric or converted into numerical representations.\n",
    "2. Feature Scaling: It is essential to scale the features to a similar range to ensure fair treatment during the optimization process. Common scaling techniques include standardization (subtracting mean and dividing by standard deviation) or normalization (scaling values between 0 and 1).\n",
    "3. Model Training: SVM determines the optimal hyperplane by finding support vectors, which are the data points closest to the decision boundary. The algorithm aims to maximize the margin (distance) between the support vectors of different classes.\n",
    "4. Kernel Trick (optional): SVM can use a kernel function to transform the original feature space into a higher-dimensional space, allowing for better separation of classes. Common kernel functions include linear, polynomial, and radial basis function (RBF).\n",
    "5. Model Evaluation: Once the SVM model is trained, it can be used to predict the class labels of unseen data points. The performance of the model can be assessed using various evaluation metrics such as accuracy, precision, recall, and F1 score.\n",
    "\n",
    "TR\n",
    "\n",
    "Support Vector Machines, sınıflandırma ve regresyon problemleri için kullanılan bir makine öğrenmesi algoritmasıdır. SVM, verileri iyi bir şekilde ayıran bir hiper düzlem bulmaya çalışır.\n",
    "\n",
    "SVM algoritmasında yer alan temel adımlar:\n",
    "1. Veri Hazırlama: SVM, özelliklere ve ilgili sınıf etiketlerine sahip bir etiketli veri kümesi gerektirir. Özellikler sayısal olmalı veya sayısal temsillere dönüştürülmelidir.\n",
    "2. Öznitelik Ölçeklendirme: Optimizasyon sürecinde adil bir işlem sağlamak için özellikleri benzer bir aralığa ölçeklendirmek önemlidir. Yaygın ölçeklendirme teknikleri arasında standartlaştırma (ortalama çıkarma ve standart sapmaya bölme) veya normalleştirme (değerleri 0 ile 1 arasına ölçekleme) bulunur.\n",
    "3. Model Eğitimi: SVM, destek vektörleri olarak adlandırılan, karar sınırına en yakın veri noktalarını bularak optimal hiperdüzlemi belirler. Algoritma, farklı sınıflara ait destek vektörler arasındaki marjinal mesafeyi (uzaklığı) maksimize etmeyi hedefler.\n",
    "4. Çekirdek İşlemi (isteğe bağlı): SVM, orijinal öznitelik uzayını daha yüksek boyutlu bir uzaya dönüştürmek için bir çekirdek işlevi kullanabilir. Bu, sınıfların daha iyi şekilde ayrılmasını sağlar. Yaygın çekirdek işlevleri arasında doğrusal, polinom ve radyal baz fonksiyon (RBF) bulunur.\n",
    "5. Model Değerlendirme: Eğitilen SVM modeli, görünmeyen veri noktalarının sınıf etiketlerini tahmin etmek için kullanılabilir. Modelin performansı, doğruluk, hassasiyet, geri çağırma ve F1 skoru gibi çeşitli değerlendirme metrikleri kullanılarak değerlendirilebilir."
   ]
  },
  {
   "cell_type": "code",
   "execution_count": 112,
   "id": "d12eb206",
   "metadata": {},
   "outputs": [],
   "source": [
    "# Split the dataset into training and testing sets\n",
    "X_train, X_test, y_train, y_test = train_test_split(sampled_X_vectorized, sampled_y, test_size=0.2, random_state=42)"
   ]
  },
  {
   "cell_type": "code",
   "execution_count": 113,
   "id": "cf17334f",
   "metadata": {},
   "outputs": [
    {
     "data": {
      "text/plain": [
       "SVC()"
      ]
     },
     "execution_count": 113,
     "metadata": {},
     "output_type": "execute_result"
    }
   ],
   "source": [
    "# Build and train the SVM model\n",
    "svm = SVC()\n",
    "svm.fit(X_train, y_train)"
   ]
  },
  {
   "cell_type": "code",
   "execution_count": 114,
   "id": "05b413af",
   "metadata": {},
   "outputs": [
    {
     "data": {
      "text/plain": [
       "array([3, 2, 0, ..., 0, 1, 0])"
      ]
     },
     "execution_count": 114,
     "metadata": {},
     "output_type": "execute_result"
    }
   ],
   "source": [
    "y_pred = svm.predict(X_test)\n",
    "y_pred"
   ]
  },
  {
   "cell_type": "code",
   "execution_count": 115,
   "id": "e20e5c05",
   "metadata": {},
   "outputs": [],
   "source": [
    "# Calculating performance metrics\n",
    "accuracy = accuracy_score(y_test, y_pred)\n",
    "precision = precision_score(y_test, y_pred, average='micro')\n",
    "recall = recall_score(y_test, y_pred, average='micro')\n",
    "f1 = f1_score(y_test, y_pred, average='micro')"
   ]
  },
  {
   "cell_type": "code",
   "execution_count": 116,
   "id": "fb442e76",
   "metadata": {},
   "outputs": [
    {
     "name": "stdout",
     "output_type": "stream",
     "text": [
      "Accuracy Score: 0.913\n",
      "Precision Score: 0.913\n",
      "Recall Score: 0.913\n",
      "F1 Score: 0.9130000000000001\n"
     ]
    }
   ],
   "source": [
    "print(\"Accuracy Score:\", accuracy)\n",
    "print(\"Precision Score:\", precision)\n",
    "print(\"Recall Score:\", recall)\n",
    "print(\"F1 Score:\", f1)"
   ]
  },
  {
   "cell_type": "markdown",
   "id": "5fee2ac5",
   "metadata": {},
   "source": [
    "### Support Vector Machines (SVM) with Standard Deviations"
   ]
  },
  {
   "cell_type": "code",
   "execution_count": 117,
   "id": "43a64cde",
   "metadata": {},
   "outputs": [
    {
     "name": "stdout",
     "output_type": "stream",
     "text": [
      "Accuracy Score: 0.913\n",
      "Precision Score: 0.913\n",
      "Recall Score: 0.913\n",
      "F1 Score: 0.9130000000000001\n"
     ]
    }
   ],
   "source": [
    "# Standard deviations.\n",
    "sc_X = StandardScaler(with_mean=False)\n",
    "X_train_sca = sc_X.fit_transform(X_train)\n",
    "X_test_sca = sc_X.transform(X_test)\n",
    "\n",
    "# Build and train the SVM model\n",
    "svm = SVC()\n",
    "svm.fit(X_train, y_train)\n",
    "\n",
    "y_pred = svm.predict(X_test)\n",
    "\n",
    "# Calculating performance metrics\n",
    "accuracy = accuracy_score(y_test, y_pred)\n",
    "precision = precision_score(y_test, y_pred, average='micro')\n",
    "recall = recall_score(y_test, y_pred, average='micro')\n",
    "f1 = f1_score(y_test, y_pred, average='micro')\n",
    "\n",
    "print(\"Accuracy Score:\", accuracy)\n",
    "print(\"Precision Score:\", precision)\n",
    "print(\"Recall Score:\", recall)\n",
    "print(\"F1 Score:\", f1)"
   ]
  },
  {
   "cell_type": "markdown",
   "id": "7f710dc3",
   "metadata": {},
   "source": [
    "### Support Vector Machines (SVM) with PCA"
   ]
  },
  {
   "cell_type": "markdown",
   "id": "50ea9370",
   "metadata": {},
   "source": [
    "#### Create the PCA model\n",
    "pca = PCA(n_components=8)\n",
    "\n",
    "#### Apply PCA to the dataset and transform it\n",
    "X_train_pca = pca.fit_transform(X_train)\n",
    "X_test_pca = pca.transform(X_test)\n",
    "\n",
    "#### Build and train the SVM model\n",
    "svm = SVC()\n",
    "svm.fit(X_train_pca, y_train)\n",
    "\n",
    "y_pred = svm.predict(X_test_pca)\n",
    "\n",
    "#### Calculating performance metrics\n",
    "accuracy = accuracy_score(y_test, y_pred)\n",
    "precision = precision_score(y_test, y_pred, average='micro')\n",
    "recall = recall_score(y_test, y_pred, average='micro')\n",
    "f1 = f1_score(y_test, y_pred, average='micro')\n",
    "\n",
    "print(\"Accuracy Score:\", accuracy)\n",
    "print(\"Precision Score:\", precision)\n",
    "print(\"Recall Score:\", recall)\n",
    "print(\"F1 Score:\", f1)"
   ]
  },
  {
   "cell_type": "markdown",
   "id": "826087cc",
   "metadata": {},
   "source": [
    "### Support Vector Machines (SVM) Using Small Data"
   ]
  },
  {
   "cell_type": "code",
   "execution_count": 118,
   "id": "c61b2378",
   "metadata": {},
   "outputs": [],
   "source": [
    "# Splitting the dataset into the Training set and Test set\n",
    "X_train, X_test, y_train, y_test = train_test_split(sampled_X_vectorized, sampled_y, test_size=0.2, random_state=42)"
   ]
  },
  {
   "cell_type": "code",
   "execution_count": 119,
   "id": "f24b5360",
   "metadata": {},
   "outputs": [
    {
     "data": {
      "text/plain": [
       "SVC()"
      ]
     },
     "execution_count": 119,
     "metadata": {},
     "output_type": "execute_result"
    }
   ],
   "source": [
    "# Build and train the SVM model\n",
    "svm = SVC()\n",
    "svm.fit(X_train, y_train)"
   ]
  },
  {
   "cell_type": "code",
   "execution_count": 120,
   "id": "de75ef49",
   "metadata": {},
   "outputs": [
    {
     "data": {
      "text/plain": [
       "array([3, 2, 0, ..., 0, 1, 0])"
      ]
     },
     "execution_count": 120,
     "metadata": {},
     "output_type": "execute_result"
    }
   ],
   "source": [
    "y_pred = svm.predict(X_test)\n",
    "y_pred"
   ]
  },
  {
   "cell_type": "code",
   "execution_count": 121,
   "id": "75b03935",
   "metadata": {},
   "outputs": [],
   "source": [
    "# Calculating performance metrics\n",
    "accuracy = accuracy_score(y_test, y_pred)\n",
    "precision = precision_score(y_test, y_pred, average='micro')\n",
    "recall = recall_score(y_test, y_pred, average='micro')\n",
    "f1 = f1_score(y_test, y_pred, average='micro')"
   ]
  },
  {
   "cell_type": "code",
   "execution_count": 122,
   "id": "229d9729",
   "metadata": {},
   "outputs": [
    {
     "name": "stdout",
     "output_type": "stream",
     "text": [
      "Accuracy Score: 0.913\n",
      "Precision Score: 0.913\n",
      "Recall Score: 0.913\n",
      "F1 Score: 0.9130000000000001\n"
     ]
    }
   ],
   "source": [
    "print(\"Accuracy Score:\", accuracy)\n",
    "print(\"Precision Score:\", precision)\n",
    "print(\"Recall Score:\", recall)\n",
    "print(\"F1 Score:\", f1)"
   ]
  },
  {
   "cell_type": "markdown",
   "id": "50bf32fc",
   "metadata": {},
   "source": [
    "# Clustering"
   ]
  },
  {
   "cell_type": "markdown",
   "id": "2ac4b227",
   "metadata": {},
   "source": [
    "EN\n",
    "\n",
    "Clustering is a machine learning method used to group data according to certain characteristics. Clustering algorithms try to group data into clusters based on the similarity measure in the data set.\n",
    "\n",
    "Clustering algorithms are based on different approaches and mathematical principles. Some popular clustering algorithms include:\n",
    "1. K-Means: It is an iterative algorithm that assigns data points to K number of clusters/centroids. In each iteration, data points are assigned to the clusters that are closest to their centroids, and the centroids are recalculated.\n",
    "2. Hierarchical Clustering: It groups data points into a hierarchical tree-like structure. This algorithm can work in two approaches: agglomerative (bottom-up) or divisive (top-down). In the agglomerative approach, each data point starts as a separate cluster, and similar clusters are merged together to form a hierarchical tree. In the divisive approach, all data points start in a single cluster, and the tree structure is built by dividing the clusters.\n",
    "3. DBSCAN (Density-Based Spatial Clustering of Applications with Noise): It is a density-based clustering algorithm. This algorithm identifies dense regions and sparse regions of data points to perform clustering. Data points are assigned to clusters based on a density threshold and neighborhood relationship.\n",
    "\n",
    "TR\n",
    "\n",
    "Kümeleme (Clustering), verileri belirli özelliklerine göre gruplara ayırmak için kullanılan bir makine öğrenmesi yöntemidir. Kümeleme algoritmaları, veri setinde benzerlik ölçüsüne dayalı olarak verileri kümeler halinde gruplamaya çalışır.\n",
    "\n",
    "Clustering algoritmaları farklı yaklaşımlara ve matematiksel prensiplere dayanır. En popüler clustering algoritmalarından birkaçı şunlardır:\n",
    "1. K-Means: Veri noktalarını K sayısı kadar küme/merkez noktasına atayan bir iteratif algoritmadır. Her iterasyonda, veri noktaları küme merkezlerine en yakın olan kümelere atanır ve merkezler yeniden hesaplanır.\n",
    "2. Hierarchical Clustering (Hiyerarşik Kümeleme): Veri noktalarını hiyerarşik bir ağaç yapısı şeklinde gruplandırır. Bu algoritma, agglomerative (birleştirici) veya divisive (ayrıştırıcı) yaklaşımlarla çalışabilir. Agglomerative yöntemde, her veri noktası ayrı bir küme olarak başlar ve benzer olan kümeler bir araya getirilerek hiyerarşik bir ağaç oluşturulur. Divisive yöntemde ise tüm veri noktaları tek bir küme olarak başlar ve ağaç yapısı parçalanarak kümeleme gerçekleştirilir.\n",
    "3. DBSCAN (Density-Based Spatial Clustering of Applications with Noise): Yoğunluğa dayalı bir kümeleme algoritmasıdır. Bu algoritma, veri noktalarının yoğun bölgelerini ve seyrek bölgelerini tanımlayarak kümeleme yapar. Veri noktaları, belirli bir yoğunluk eşiği ve komşuluk ilişkisi kullanılarak kümelere atanır."
   ]
  },
  {
   "cell_type": "markdown",
   "id": "189a9bf4",
   "metadata": {},
   "source": [
    "EN\n",
    "\n",
    "Elbow method: In this method, the total inertia value decreases as the number of clusters increases. The Elbow method tries to find the \"elbow\" where the rate of decline of the inertia value slows down to determine the number of clusters. We can determine the optimal number of clusters by calculating and graphing the inertia values for different cluster numbers using the Elbow method.\n",
    "\n",
    "TR\n",
    "\n",
    "Elbow yöntemi: Bu yöntemde, küme sayısının artmasıyla birlikte toplam küme içi hata (inertia) değeri azalır. Elbow yöntemi, küme sayısını belirlemek için inertia değerinin düşme hızının yavaşladığı \"dirsek\" noktasını bulmaya çalışır. Elbow yöntemini kullanarak farklı küme sayıları için inertia değerlerini hesaplayıp, grafiğini çizerek optimal küme sayısını belirleyebiliriz."
   ]
  },
  {
   "cell_type": "code",
   "execution_count": 123,
   "id": "22fb8f57",
   "metadata": {},
   "outputs": [
    {
     "data": {
      "image/png": "[encoded data removed]",
      "text/plain": [
       "<Figure size 640x480 with 1 Axes>"
      ]
     },
     "metadata": {},
     "output_type": "display_data"
    }
   ],
   "source": [
    "# Calculating inertia values for different cluster numbers\n",
    "inertia_values = []\n",
    "k_values = range(1, 10)  # Range of cluster numbers to test\n",
    "\n",
    "for k in k_values:\n",
    "    kmeans = KMeans(n_clusters=k)\n",
    "    kmeans.fit(sampled_X_vectorized)\n",
    "    inertia_values.append(kmeans.inertia_)\n",
    "\n",
    "# Graphing inertia values\n",
    "plt.plot(k_values, inertia_values, 'bx-')\n",
    "plt.xlabel('Number of Clusters')\n",
    "plt.ylabel('Inertia')\n",
    "plt.title('Elbow Method: Inertia Values')\n",
    "plt.show()"
   ]
  },
  {
   "cell_type": "code",
   "execution_count": 124,
   "id": "99b4e955",
   "metadata": {},
   "outputs": [
    {
     "name": "stdout",
     "output_type": "stream",
     "text": [
      "                                             Data Point  Cluster\n",
      "0       (0, 2703)\\t1\\n  (0, 5855)\\t1\\n  (0, 7608)\\t1...        7\n",
      "1       (0, 9770)\\t1\\n  (0, 10898)\\t1\\n  (0, 17395)\\...        7\n",
      "2       (0, 4133)\\t1\\n  (0, 7608)\\t1\\n  (0, 9770)\\t1...        7\n",
      "3         (0, 3632)\\t1\\n  (0, 7608)\\t1\\n  (0, 22365)\\t1        7\n",
      "4       (0, 4980)\\t2\\n  (0, 7608)\\t1\\n  (0, 9534)\\t2...        1\n",
      "...                                                 ...      ...\n",
      "9995     (0, 7608)\\t1\\n  (0, 14365)\\t1\\n  (0, 24406)\\t1        7\n",
      "9996    (0, 4197)\\t1\\n  (0, 4915)\\t1\\n  (0, 7608)\\t1...        7\n",
      "9997    (0, 3299)\\t1\\n  (0, 3418)\\t1\\n  (0, 4821)\\t1...        8\n",
      "9998    (0, 2946)\\t1\\n  (0, 3004)\\t1\\n  (0, 6370)\\t1...        8\n",
      "9999    (0, 7475)\\t1\\n  (0, 12436)\\t1\\n  (0, 12818)\\...        7\n",
      "\n",
      "[10000 rows x 2 columns]\n"
     ]
    }
   ],
   "source": [
    "# Analyze the resulting cluster tags\n",
    "cluster_labels = kmeans.labels_\n",
    "clusters = pd.DataFrame({'Data Point': sampled_X_vectorized, 'Cluster': cluster_labels})\n",
    "print(clusters)"
   ]
  },
  {
   "cell_type": "markdown",
   "id": "e9d6258e",
   "metadata": {},
   "source": [
    "# Logistic Regression"
   ]
  },
  {
   "cell_type": "markdown",
   "id": "c5a09978",
   "metadata": {},
   "source": [
    "EN\n",
    "\n",
    "Logistic Regression is a popular supervised learning algorithm used for binary classification problems. It models the relationship between a set of independent variables (features) and a binary dependent variable (target) by estimating the probability of the target variable belonging to a particular class.\n",
    "\n",
    "The algorithm uses a logistic function (also known as the sigmoid function) to model the relationship between the input features and the probability of the target variable being in the positive class. The logistic function maps any real-valued number to a value between 0 and 1, representing the probability. The logistic regression model learns the coefficients (weights) of the input features to maximize the likelihood of the observed data.\n",
    "\n",
    "During training, the algorithm optimizes the coefficients using various optimization techniques such as gradient descent or Newton's method. The objective is to minimize a cost function, which measures the discrepancy between the predicted probabilities and the true class labels.\n",
    "\n",
    "For visualization in logistic regression, one common approach is to plot the decision boundary. Since logistic regression is a linear classifier, the decision boundary is a straight line or a hyperplane in higher dimensions. By plotting the decision boundary along with the training data points, you can visually observe how the algorithm separates the classes.\n",
    "\n",
    "TR\n",
    "\n",
    "Logistic Regression, ikili sınıflandırma problemleri için kullanılan popüler bir denetimli öğrenme algoritmasıdır. Bağımlı değişkenin (hedef) iki sınıftan birine ait olma olasılığını tahmin etmek için bağımsız değişkenler kümesi (özellikler) ile arasındaki ilişkiyi modellemektedir.\n",
    "\n",
    "Algoritma, giriş özellikleri ile hedef değişkenin pozitif sınıfa ait olma olasılığı arasındaki ilişkiyi modellemek için bir lojistik fonksiyon (sigmoid fonksiyonu) kullanır. Lojistik fonksiyon, herhangi bir gerçek değerli sayıyı 0 ile 1 arasında bir değere dönüştürerek olasılığı temsil eder. Lojistik regresyon modeli, giriş özelliklerinin katsayılarını (ağırlıklarını) öğrenerek gözlemlenen verinin olasılığı maksimize etmeye çalışır.\n",
    "\n",
    "Eğitim sırasında algoritma, gradyan inişi veya Newton'un yöntemi gibi çeşitli optimizasyon tekniklerini kullanarak katsayıları optimize eder. Amaç, tahmin edilen olasılıklar ile gerçek sınıf etiketleri arasındaki uyumsuzluğu ölçen bir maliyet fonksiyonunu minimize etmektir.\n",
    "\n",
    "Lojistik regresyonun görselleştirilmesi için yaygın bir yaklaşım, karar sınırını çizmektir. Lojistik regresyon bir doğrusal sınıflandırıcı olduğu için karar sınırı, düz bir çizgi veya daha yüksek boyutlarda hiper düzlemdir. Karar sınırını eğitim veri noktalarıyla birlikte çizerek algoritmanın sınıfları nasıl ayırdığını görsel olarak gözlemleyebilirsiniz."
   ]
  },
  {
   "cell_type": "code",
   "execution_count": 125,
   "id": "cdb4a5a6",
   "metadata": {},
   "outputs": [],
   "source": [
    "# Split the dataset into training and testing sets\n",
    "X_train, X_test, y_train, y_test = train_test_split(X_vectorized, y, test_size=0.2, random_state=42)"
   ]
  },
  {
   "cell_type": "code",
   "execution_count": 126,
   "id": "c83021a9",
   "metadata": {},
   "outputs": [
    {
     "data": {
      "text/plain": [
       "LogisticRegression(max_iter=10000)"
      ]
     },
     "execution_count": 126,
     "metadata": {},
     "output_type": "execute_result"
    }
   ],
   "source": [
    "# Build and train the Logistic Regression model\n",
    "logreg = LogisticRegression(max_iter=10000)\n",
    "logreg.fit(X_train, y_train)"
   ]
  },
  {
   "cell_type": "code",
   "execution_count": 127,
   "id": "582a9ffd",
   "metadata": {},
   "outputs": [
    {
     "data": {
      "text/plain": [
       "array([0, 0, 0, ..., 1, 3, 0])"
      ]
     },
     "execution_count": 127,
     "metadata": {},
     "output_type": "execute_result"
    }
   ],
   "source": [
    "# Making predictions on test data\n",
    "y_pred = logreg.predict(X_test)\n",
    "y_pred"
   ]
  },
  {
   "cell_type": "code",
   "execution_count": 128,
   "id": "87f91bc7",
   "metadata": {},
   "outputs": [],
   "source": [
    "# Calculating performance metrics\n",
    "accuracy = accuracy_score(y_test, y_pred)\n",
    "precision = precision_score(y_test, y_pred, average='micro')\n",
    "recall = recall_score(y_test, y_pred, average='micro')\n",
    "f1 = f1_score(y_test, y_pred, average='micro')"
   ]
  },
  {
   "cell_type": "code",
   "execution_count": 129,
   "id": "69c12a99",
   "metadata": {},
   "outputs": [
    {
     "name": "stdout",
     "output_type": "stream",
     "text": [
      "Accuracy Score: 0.9544004679274712\n",
      "Precision Score: 0.9544004679274712\n",
      "Recall Score: 0.9544004679274712\n",
      "F1 Score: 0.9544004679274712\n"
     ]
    }
   ],
   "source": [
    "print(\"Accuracy Score:\", accuracy)\n",
    "print(\"Precision Score:\", precision)\n",
    "print(\"Recall Score:\", recall)\n",
    "print(\"F1 Score:\", f1)"
   ]
  },
  {
   "cell_type": "markdown",
   "id": "fc76d9dc",
   "metadata": {},
   "source": [
    "### Logistic Regression with Standard Deviations"
   ]
  },
  {
   "cell_type": "code",
   "execution_count": 130,
   "id": "76bdaaa4",
   "metadata": {},
   "outputs": [
    {
     "name": "stdout",
     "output_type": "stream",
     "text": [
      "Accuracy Score: 0.9175823747319165\n",
      "Precision Score: 0.9175823747319165\n",
      "Recall Score: 0.9175823747319165\n",
      "F1 Score: 0.9175823747319165\n"
     ]
    }
   ],
   "source": [
    "scaler = StandardScaler(with_mean=False)  # with_mean parametresini False olarak ayarladım\n",
    "X_train_scaled = scaler.fit_transform(X_train)\n",
    "X_test_scaled = scaler.transform(X_test)\n",
    "\n",
    "#### Build and train the Logistic Regression model\n",
    "logreg = LogisticRegression(max_iter=10000)\n",
    "logreg.fit(X_train_scaled, y_train)\n",
    "\n",
    "#### Making predictions on test data\n",
    "y_pred = logreg.predict(X_test_scaled)\n",
    "\n",
    "#### Calculating performance metrics\n",
    "accuracy = accuracy_score(y_test, y_pred)\n",
    "precision = precision_score(y_test, y_pred, average='micro')\n",
    "recall = recall_score(y_test, y_pred, average='micro')\n",
    "f1 = f1_score(y_test, y_pred, average='micro')\n",
    "\n",
    "print(\"Accuracy Score:\", accuracy)\n",
    "print(\"Precision Score:\", precision)\n",
    "print(\"Recall Score:\", recall)\n",
    "print(\"F1 Score:\", f1)"
   ]
  },
  {
   "cell_type": "markdown",
   "id": "0bcd3577",
   "metadata": {},
   "source": [
    "### Logistic Regression with PCA"
   ]
  },
  {
   "cell_type": "markdown",
   "id": "8c41d810",
   "metadata": {},
   "source": [
    "#### Create the PCA model\n",
    "pca = PCA(n_components=8)\n",
    "\n",
    "#### Apply PCA to the dataset and transform it\n",
    "X_train_pca = pca.fit_transform(X_train)\n",
    "X_test_pca = pca.transform(X_test)\n",
    "\n",
    "#### Build and train the Logistic Regression model\n",
    "logreg = LogisticRegression(max_iter=10000)\n",
    "logreg.fit(X_train_pca, y_train)\n",
    "\n",
    "#### Making predictions on test data\n",
    "y_pred = logreg.predict(X_test_pca)\n",
    "\n",
    "#### Calculating performance metrics\n",
    "accuracy = accuracy_score(y_test, y_pred)\n",
    "precision = precision_score(y_test, y_pred, average='micro')\n",
    "recall = recall_score(y_test, y_pred, average='micro')\n",
    "f1 = f1_score(y_test, y_pred, average='micro')\n",
    "\n",
    "print(\"Accuracy Score:\", accuracy)\n",
    "print(\"Precision Score:\", precision)\n",
    "print(\"Recall Score:\", recall)\n",
    "print(\"F1 Score:\", f1)"
   ]
  },
  {
   "cell_type": "markdown",
   "id": "ffbcc8ef",
   "metadata": {},
   "source": [
    "### Logistic Regression Using Small Data"
   ]
  },
  {
   "cell_type": "code",
   "execution_count": 131,
   "id": "4426afd9",
   "metadata": {},
   "outputs": [],
   "source": [
    "# Splitting the dataset into the Training set and Test set\n",
    "X_train, X_test, y_train, y_test = train_test_split(sampled_X_vectorized, sampled_y, test_size=0.2, random_state=42)"
   ]
  },
  {
   "cell_type": "code",
   "execution_count": 132,
   "id": "b78ed282",
   "metadata": {},
   "outputs": [
    {
     "data": {
      "text/plain": [
       "LogisticRegression(max_iter=10000)"
      ]
     },
     "execution_count": 132,
     "metadata": {},
     "output_type": "execute_result"
    }
   ],
   "source": [
    "# Build and train the Logistic Regression model\n",
    "logreg = LogisticRegression(max_iter=10000)\n",
    "logreg.fit(X_train, y_train)"
   ]
  },
  {
   "cell_type": "code",
   "execution_count": 133,
   "id": "cd9465a7",
   "metadata": {},
   "outputs": [
    {
     "data": {
      "text/plain": [
       "array([0, 2, 0, ..., 0, 1, 0])"
      ]
     },
     "execution_count": 133,
     "metadata": {},
     "output_type": "execute_result"
    }
   ],
   "source": [
    "# Making predictions on test data\n",
    "y_pred = logreg.predict(X_test)\n",
    "y_pred"
   ]
  },
  {
   "cell_type": "code",
   "execution_count": 134,
   "id": "938fe71c",
   "metadata": {},
   "outputs": [],
   "source": [
    "# Calculating performance metrics\n",
    "accuracy = accuracy_score(y_test, y_pred)\n",
    "precision = precision_score(y_test, y_pred, average='micro')\n",
    "recall = recall_score(y_test, y_pred, average='micro')\n",
    "f1 = f1_score(y_test, y_pred, average='micro')"
   ]
  },
  {
   "cell_type": "code",
   "execution_count": 135,
   "id": "1b7369a7",
   "metadata": {},
   "outputs": [
    {
     "name": "stdout",
     "output_type": "stream",
     "text": [
      "Accuracy Score: 0.9115\n",
      "Precision Score: 0.9115\n",
      "Recall Score: 0.9115\n",
      "F1 Score: 0.9115\n"
     ]
    }
   ],
   "source": [
    "print(\"Accuracy Score:\", accuracy)\n",
    "print(\"Precision Score:\", precision)\n",
    "print(\"Recall Score:\", recall)\n",
    "print(\"F1 Score:\", f1)"
   ]
  },
  {
   "cell_type": "markdown",
   "id": "d3121ef1",
   "metadata": {},
   "source": [
    "# Gaussian Naive Bayes"
   ]
  },
  {
   "cell_type": "code",
   "execution_count": 136,
   "id": "7f092644",
   "metadata": {},
   "outputs": [],
   "source": [
    "# Splitting the dataset into the Training set and Test set\n",
    "X_train, X_test, y_train, y_test = train_test_split(sampled_X_vectorized, sampled_y, test_size=0.2, random_state=42)"
   ]
  },
  {
   "cell_type": "code",
   "execution_count": 137,
   "id": "a32b41c1",
   "metadata": {},
   "outputs": [],
   "source": [
    "# Dönüşümü burada yapıyoruz\n",
    "X_train_dense = X_train.toarray()\n",
    "X_test_dense = X_test.toarray()"
   ]
  },
  {
   "cell_type": "code",
   "execution_count": 138,
   "id": "499b5458",
   "metadata": {},
   "outputs": [
    {
     "data": {
      "text/plain": [
       "GaussianNB()"
      ]
     },
     "execution_count": 138,
     "metadata": {},
     "output_type": "execute_result"
    }
   ],
   "source": [
    "model = GaussianNB()\n",
    "model.fit(X_train_dense, y_train)"
   ]
  },
  {
   "cell_type": "code",
   "execution_count": 139,
   "id": "61595c5a",
   "metadata": {},
   "outputs": [
    {
     "data": {
      "text/plain": [
       "array([3, 2, 0, ..., 0, 1, 3])"
      ]
     },
     "execution_count": 139,
     "metadata": {},
     "output_type": "execute_result"
    }
   ],
   "source": [
    "# Geri kalan işlemi yine yoğun dizilerle devam ediyoruz\n",
    "y_pred = model.predict(X_test_dense)\n",
    "y_pred"
   ]
  },
  {
   "cell_type": "code",
   "execution_count": 140,
   "id": "91d877b2",
   "metadata": {},
   "outputs": [],
   "source": [
    "# Calculating performance metrics\n",
    "accuracy = accuracy_score(y_test, y_pred)\n",
    "precision = precision_score(y_test, y_pred, average='micro')\n",
    "recall = recall_score(y_test, y_pred, average='micro')\n",
    "f1 = f1_score(y_test, y_pred, average='micro')"
   ]
  },
  {
   "cell_type": "code",
   "execution_count": 141,
   "id": "a1d1976e",
   "metadata": {},
   "outputs": [
    {
     "name": "stdout",
     "output_type": "stream",
     "text": [
      "Accuracy Score: 0.6905\n",
      "Precision Score: 0.6905\n",
      "Recall Score: 0.6905\n",
      "F1 Score: 0.6905\n"
     ]
    }
   ],
   "source": [
    "print(\"Accuracy Score:\", accuracy)\n",
    "print(\"Precision Score:\", precision)\n",
    "print(\"Recall Score:\", recall)\n",
    "print(\"F1 Score:\", f1)"
   ]
  },
  {
   "cell_type": "markdown",
   "id": "1ee5c98f",
   "metadata": {},
   "source": [
    "### Gaussian Naive Bayes with Standard deviations"
   ]
  },
  {
   "cell_type": "code",
   "execution_count": 142,
   "id": "98fe83cf",
   "metadata": {},
   "outputs": [
    {
     "name": "stdout",
     "output_type": "stream",
     "text": [
      "Accuracy Score: 0.673\n",
      "Precision Score: 0.673\n",
      "Recall Score: 0.673\n",
      "F1 Score: 0.673\n"
     ]
    }
   ],
   "source": [
    "scaler = StandardScaler()\n",
    "X_train_scaled = scaler.fit_transform(X_train_dense)\n",
    "X_test_scaled = scaler.transform(X_test_dense)\n",
    "\n",
    "# Build and train the Gaussian Naive Bayes model\n",
    "model = GaussianNB()\n",
    "model.fit(X_train_scaled, y_train)\n",
    "\n",
    "# Making predictions on test data\n",
    "y_pred = model.predict(X_test_scaled)\n",
    "\n",
    "# Calculating performance metrics\n",
    "accuracy = accuracy_score(y_test, y_pred)\n",
    "precision = precision_score(y_test, y_pred, average='micro')\n",
    "recall = recall_score(y_test, y_pred, average='micro')\n",
    "f1 = f1_score(y_test, y_pred, average='micro')\n",
    "\n",
    "print(\"Accuracy Score:\", accuracy)\n",
    "print(\"Precision Score:\", precision)\n",
    "print(\"Recall Score:\", recall)\n",
    "print(\"F1 Score:\", f1)"
   ]
  },
  {
   "cell_type": "markdown",
   "id": "843629ff",
   "metadata": {},
   "source": [
    "### Gaussian Naive Bayes Using Small Data"
   ]
  },
  {
   "cell_type": "code",
   "execution_count": 143,
   "id": "62943ec1",
   "metadata": {},
   "outputs": [],
   "source": [
    "# Splitting the dataset into the Training set and Test set\n",
    "X_train, X_test, y_train, y_test = train_test_split(sampled_X_vectorized, sampled_y, test_size=0.2, random_state=42)"
   ]
  },
  {
   "cell_type": "code",
   "execution_count": 144,
   "id": "c65c3160",
   "metadata": {},
   "outputs": [],
   "source": [
    "# Dönüşümü burada yapıyoruz\n",
    "X_train_dense = X_train.toarray()\n",
    "X_test_dense = X_test.toarray()"
   ]
  },
  {
   "cell_type": "code",
   "execution_count": 145,
   "id": "10f8013d",
   "metadata": {},
   "outputs": [
    {
     "data": {
      "text/plain": [
       "GaussianNB()"
      ]
     },
     "execution_count": 145,
     "metadata": {},
     "output_type": "execute_result"
    }
   ],
   "source": [
    "model = GaussianNB()\n",
    "model.fit(X_train_dense, y_train)"
   ]
  },
  {
   "cell_type": "code",
   "execution_count": 146,
   "id": "5a364b23",
   "metadata": {},
   "outputs": [
    {
     "data": {
      "text/plain": [
       "array([3, 2, 0, ..., 0, 1, 3])"
      ]
     },
     "execution_count": 146,
     "metadata": {},
     "output_type": "execute_result"
    }
   ],
   "source": [
    "# Geri kalan işlemi yine yoğun dizilerle devam ediyoruz\n",
    "y_pred = model.predict(X_test_dense)\n",
    "y_pred"
   ]
  },
  {
   "cell_type": "code",
   "execution_count": 147,
   "id": "9be4a7d5",
   "metadata": {},
   "outputs": [],
   "source": [
    "# Calculating performance metrics\n",
    "accuracy = accuracy_score(y_test, y_pred)\n",
    "precision = precision_score(y_test, y_pred, average='micro')\n",
    "recall = recall_score(y_test, y_pred, average='micro')\n",
    "f1 = f1_score(y_test, y_pred, average='micro')"
   ]
  },
  {
   "cell_type": "code",
   "execution_count": 148,
   "id": "98094588",
   "metadata": {},
   "outputs": [
    {
     "name": "stdout",
     "output_type": "stream",
     "text": [
      "Accuracy Score: 0.6905\n",
      "Precision Score: 0.6905\n",
      "Recall Score: 0.6905\n",
      "F1 Score: 0.6905\n"
     ]
    }
   ],
   "source": [
    "print(\"Accuracy Score:\", accuracy)\n",
    "print(\"Precision Score:\", precision)\n",
    "print(\"Recall Score:\", recall)\n",
    "print(\"F1 Score:\", f1)"
   ]
  },
  {
   "cell_type": "markdown",
   "id": "3e46d8ee",
   "metadata": {},
   "source": [
    "# 5 Classification Algorithms Example"
   ]
  },
  {
   "cell_type": "code",
   "execution_count": 149,
   "id": "51dcc64c",
   "metadata": {},
   "outputs": [
    {
     "data": {
      "text/plain": [
       "[('KNN', KNeighborsClassifier()),\n",
       " ('DT', DecisionTreeClassifier()),\n",
       " ('RF', RandomForestClassifier()),\n",
       " ('SVM', SVC()),\n",
       " ('LR', LogisticRegression(max_iter=1000))]"
      ]
     },
     "execution_count": 149,
     "metadata": {},
     "output_type": "execute_result"
    }
   ],
   "source": [
    "models = [\n",
    "    ('KNN', KNeighborsClassifier()),\n",
    "    ('DT', DecisionTreeClassifier()),\n",
    "    ('RF', RandomForestClassifier()),\n",
    "    ('SVM', SVC()),\n",
    "    ('LR', LogisticRegression(max_iter=1000)),\n",
    "]\n",
    "models"
   ]
  },
  {
   "cell_type": "code",
   "execution_count": 150,
   "id": "56b5ba5b",
   "metadata": {},
   "outputs": [
    {
     "name": "stderr",
     "output_type": "stream",
     "text": [
      "C:\\Users\\dogan\\anaconda3\\lib\\site-packages\\sklearn\\neighbors\\_classification.py:228: FutureWarning: Unlike other reduction functions (e.g. `skew`, `kurtosis`), the default behavior of `mode` typically preserves the axis it acts along. In SciPy 1.11.0, this behavior will change: the default value of `keepdims` will become False, the `axis` over which the statistic is taken will be eliminated, and the value None will no longer be accepted. Set `keepdims` to True or False to avoid this warning.\n",
      "  mode, _ = stats.mode(_y[neigh_ind, k], axis=1)\n"
     ]
    },
    {
     "name": "stdout",
     "output_type": "stream",
     "text": [
      "KNN Accuracy: 0.676\n",
      "KNN Precision: 0.676\n",
      "KNN Recall: 0.676\n",
      "KNN F1-score: 0.676\n",
      "\n",
      "DT Accuracy: 0.9135\n",
      "DT Precision: 0.9135\n",
      "DT Recall: 0.9135\n",
      "DT F1-score: 0.9135\n",
      "\n",
      "RF Accuracy: 0.9165\n",
      "RF Precision: 0.9165\n",
      "RF Recall: 0.9165\n",
      "RF F1-score: 0.9165\n",
      "\n",
      "SVM Accuracy: 0.7315\n",
      "SVM Precision: 0.7315\n",
      "SVM Recall: 0.7315\n",
      "SVM F1-score: 0.7315\n",
      "\n",
      "LR Accuracy: 0.843\n",
      "LR Precision: 0.843\n",
      "LR Recall: 0.843\n",
      "LR F1-score: 0.843\n",
      "\n"
     ]
    }
   ],
   "source": [
    "scaler = StandardScaler(with_mean=False)\n",
    "X_new = scaler.fit_transform(sampled_X_vectorized)\n",
    "\n",
    "X_train, X_test, y_train, y_test = train_test_split(X_new, sampled_y, test_size=0.2, random_state=42)\n",
    "\n",
    "for name, model in models:\n",
    "    clf = model\n",
    "    clf.fit(X_train, y_train)\n",
    "    y_pred = clf.predict(X_test)\n",
    "    \n",
    "    accuracy = accuracy_score(y_test, y_pred)\n",
    "    precision = precision_score(y_test, y_pred, average='micro')\n",
    "    recall = recall_score(y_test, y_pred, average='micro')\n",
    "    f1 = f1_score(y_test, y_pred, average='micro')\n",
    "    \n",
    "    print(name, \"Accuracy:\", accuracy)\n",
    "    print(name, \"Precision:\", precision)\n",
    "    print(name, \"Recall:\", recall)\n",
    "    print(name, \"F1-score:\", f1)\n",
    "    print()"
   ]
  }
 ],
 "metadata": {
  "kernelspec": {
   "display_name": "Python 3 (ipykernel)",
   "language": "python",
   "name": "python3"
  },
  "language_info": {
   "codemirror_mode": {
    "name": "ipython",
    "version": 3
   },
   "file_extension": ".py",
   "mimetype": "text/x-python",
   "name": "python",
   "nbconvert_exporter": "python",
   "pygments_lexer": "ipython3",
   "version": "3.9.13"
  }
 },
 "nbformat": 4,
 "nbformat_minor": 5
}
